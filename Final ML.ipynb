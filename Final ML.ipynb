{
  "cells": [
    {
      "cell_type": "code",
      "execution_count": 1,
      "id": "98ac729c",
      "metadata": {
        "id": "98ac729c"
      },
      "outputs": [],
      "source": [
        "import pandas as pd\n",
        "import matplotlib.pyplot as plt\n",
        "import seaborn as sns\n",
        "import numpy as np"
      ]
    },
    {
      "cell_type": "code",
      "execution_count": 2,
      "id": "3647def5",
      "metadata": {
        "id": "3647def5"
      },
      "outputs": [],
      "source": [
        "import warnings\n",
        "warnings.filterwarnings(\"ignore\")"
      ]
    },
    {
      "cell_type": "code",
      "execution_count": 3,
      "id": "2e295016",
      "metadata": {
        "id": "2e295016"
      },
      "outputs": [],
      "source": [
        "df = pd.read_csv(r\"C:\\Users\\kunal\\Desktop\\ML Project\\healthcare-dataset-stroke-data.csv\")"
      ]
    },
    {
      "cell_type": "markdown",
      "id": "a3f55921",
      "metadata": {
        "id": "a3f55921"
      },
      "source": [
        "* **1. Checking the shape of the data**"
      ]
    },
    {
      "cell_type": "code",
      "execution_count": 4,
      "id": "a34726da",
      "metadata": {
        "colab": {
          "base_uri": "https://localhost:8080/"
        },
        "id": "a34726da",
        "outputId": "c8dbf398-e3a3-4877-af16-9212c3a0dfa3"
      },
      "outputs": [
        {
          "data": {
            "text/plain": [
              "(5110, 12)"
            ]
          },
          "execution_count": 4,
          "metadata": {},
          "output_type": "execute_result"
        }
      ],
      "source": [
        "df.shape"
      ]
    },
    {
      "cell_type": "markdown",
      "id": "7d3c1606",
      "metadata": {
        "id": "7d3c1606"
      },
      "source": [
        "* **2. Taking a look at the data**"
      ]
    },
    {
      "cell_type": "code",
      "execution_count": 5,
      "id": "df980fc0",
      "metadata": {
        "colab": {
          "base_uri": "https://localhost:8080/",
          "height": 206
        },
        "id": "df980fc0",
        "outputId": "50d1d509-848c-4972-b01c-e7ce431ee824"
      },
      "outputs": [
        {
          "data": {
            "text/html": [
              "<div>\n",
              "<style scoped>\n",
              "    .dataframe tbody tr th:only-of-type {\n",
              "        vertical-align: middle;\n",
              "    }\n",
              "\n",
              "    .dataframe tbody tr th {\n",
              "        vertical-align: top;\n",
              "    }\n",
              "\n",
              "    .dataframe thead th {\n",
              "        text-align: right;\n",
              "    }\n",
              "</style>\n",
              "<table border=\"1\" class=\"dataframe\">\n",
              "  <thead>\n",
              "    <tr style=\"text-align: right;\">\n",
              "      <th></th>\n",
              "      <th>id</th>\n",
              "      <th>gender</th>\n",
              "      <th>age</th>\n",
              "      <th>hypertension</th>\n",
              "      <th>heart_disease</th>\n",
              "      <th>ever_married</th>\n",
              "      <th>work_type</th>\n",
              "      <th>Residence_type</th>\n",
              "      <th>avg_glucose_level</th>\n",
              "      <th>bmi</th>\n",
              "      <th>smoking_status</th>\n",
              "      <th>stroke</th>\n",
              "    </tr>\n",
              "  </thead>\n",
              "  <tbody>\n",
              "    <tr>\n",
              "      <th>2885</th>\n",
              "      <td>30927</td>\n",
              "      <td>Male</td>\n",
              "      <td>24.0</td>\n",
              "      <td>0</td>\n",
              "      <td>0</td>\n",
              "      <td>No</td>\n",
              "      <td>Private</td>\n",
              "      <td>Rural</td>\n",
              "      <td>93.76</td>\n",
              "      <td>24.0</td>\n",
              "      <td>formerly smoked</td>\n",
              "      <td>0</td>\n",
              "    </tr>\n",
              "    <tr>\n",
              "      <th>984</th>\n",
              "      <td>6090</td>\n",
              "      <td>Male</td>\n",
              "      <td>19.0</td>\n",
              "      <td>0</td>\n",
              "      <td>0</td>\n",
              "      <td>Yes</td>\n",
              "      <td>Private</td>\n",
              "      <td>Urban</td>\n",
              "      <td>99.14</td>\n",
              "      <td>28.1</td>\n",
              "      <td>never smoked</td>\n",
              "      <td>0</td>\n",
              "    </tr>\n",
              "    <tr>\n",
              "      <th>3950</th>\n",
              "      <td>50810</td>\n",
              "      <td>Male</td>\n",
              "      <td>20.0</td>\n",
              "      <td>0</td>\n",
              "      <td>0</td>\n",
              "      <td>No</td>\n",
              "      <td>Private</td>\n",
              "      <td>Rural</td>\n",
              "      <td>64.60</td>\n",
              "      <td>27.3</td>\n",
              "      <td>Unknown</td>\n",
              "      <td>0</td>\n",
              "    </tr>\n",
              "    <tr>\n",
              "      <th>1786</th>\n",
              "      <td>54579</td>\n",
              "      <td>Female</td>\n",
              "      <td>75.0</td>\n",
              "      <td>0</td>\n",
              "      <td>0</td>\n",
              "      <td>Yes</td>\n",
              "      <td>Self-employed</td>\n",
              "      <td>Urban</td>\n",
              "      <td>87.69</td>\n",
              "      <td>27.5</td>\n",
              "      <td>formerly smoked</td>\n",
              "      <td>0</td>\n",
              "    </tr>\n",
              "    <tr>\n",
              "      <th>3310</th>\n",
              "      <td>70392</td>\n",
              "      <td>Male</td>\n",
              "      <td>34.0</td>\n",
              "      <td>0</td>\n",
              "      <td>0</td>\n",
              "      <td>Yes</td>\n",
              "      <td>Private</td>\n",
              "      <td>Rural</td>\n",
              "      <td>112.72</td>\n",
              "      <td>19.4</td>\n",
              "      <td>Unknown</td>\n",
              "      <td>0</td>\n",
              "    </tr>\n",
              "  </tbody>\n",
              "</table>\n",
              "</div>"
            ],
            "text/plain": [
              "         id  gender   age  hypertension  heart_disease ever_married  \\\n",
              "2885  30927    Male  24.0             0              0           No   \n",
              "984    6090    Male  19.0             0              0          Yes   \n",
              "3950  50810    Male  20.0             0              0           No   \n",
              "1786  54579  Female  75.0             0              0          Yes   \n",
              "3310  70392    Male  34.0             0              0          Yes   \n",
              "\n",
              "          work_type Residence_type  avg_glucose_level   bmi   smoking_status  \\\n",
              "2885        Private          Rural              93.76  24.0  formerly smoked   \n",
              "984         Private          Urban              99.14  28.1     never smoked   \n",
              "3950        Private          Rural              64.60  27.3          Unknown   \n",
              "1786  Self-employed          Urban              87.69  27.5  formerly smoked   \n",
              "3310        Private          Rural             112.72  19.4          Unknown   \n",
              "\n",
              "      stroke  \n",
              "2885       0  \n",
              "984        0  \n",
              "3950       0  \n",
              "1786       0  \n",
              "3310       0  "
            ]
          },
          "execution_count": 5,
          "metadata": {},
          "output_type": "execute_result"
        }
      ],
      "source": [
        "df.sample(5)"
      ]
    },
    {
      "cell_type": "code",
      "execution_count": 6,
      "id": "87f4f5be",
      "metadata": {
        "id": "87f4f5be"
      },
      "outputs": [],
      "source": [
        "#dropping the id column as it has no use in our analysis\n",
        "df.drop('id', inplace= True, axis=1)"
      ]
    },
    {
      "cell_type": "markdown",
      "id": "cd4fa06d",
      "metadata": {
        "id": "cd4fa06d"
      },
      "source": [
        "* **3. Checking the dtypes and memory usage of the data**"
      ]
    },
    {
      "cell_type": "code",
      "execution_count": 7,
      "id": "bf294ae5",
      "metadata": {
        "colab": {
          "base_uri": "https://localhost:8080/"
        },
        "id": "bf294ae5",
        "outputId": "ca72ff33-6d2a-4509-c77a-daf5aa9985f4"
      },
      "outputs": [
        {
          "name": "stdout",
          "output_type": "stream",
          "text": [
            "<class 'pandas.core.frame.DataFrame'>\n",
            "RangeIndex: 5110 entries, 0 to 5109\n",
            "Data columns (total 11 columns):\n",
            " #   Column             Non-Null Count  Dtype  \n",
            "---  ------             --------------  -----  \n",
            " 0   gender             5110 non-null   object \n",
            " 1   age                5110 non-null   float64\n",
            " 2   hypertension       5110 non-null   int64  \n",
            " 3   heart_disease      5110 non-null   int64  \n",
            " 4   ever_married       5110 non-null   object \n",
            " 5   work_type          5110 non-null   object \n",
            " 6   Residence_type     5110 non-null   object \n",
            " 7   avg_glucose_level  5110 non-null   float64\n",
            " 8   bmi                4909 non-null   float64\n",
            " 9   smoking_status     5110 non-null   object \n",
            " 10  stroke             5110 non-null   int64  \n",
            "dtypes: float64(3), int64(3), object(5)\n",
            "memory usage: 439.3+ KB\n"
          ]
        }
      ],
      "source": [
        "df.info()"
      ]
    },
    {
      "cell_type": "markdown",
      "id": "8697a5d5",
      "metadata": {
        "id": "8697a5d5"
      },
      "source": [
        "* **4. Checking the count of null values**"
      ]
    },
    {
      "cell_type": "code",
      "execution_count": 8,
      "id": "591ce598",
      "metadata": {
        "colab": {
          "base_uri": "https://localhost:8080/"
        },
        "id": "591ce598",
        "outputId": "490df333-597b-4f70-ec48-3ffa3694ed50"
      },
      "outputs": [
        {
          "data": {
            "text/plain": [
              "gender                 0\n",
              "age                    0\n",
              "hypertension           0\n",
              "heart_disease          0\n",
              "ever_married           0\n",
              "work_type              0\n",
              "Residence_type         0\n",
              "avg_glucose_level      0\n",
              "bmi                  201\n",
              "smoking_status         0\n",
              "stroke                 0\n",
              "dtype: int64"
            ]
          },
          "execution_count": 8,
          "metadata": {},
          "output_type": "execute_result"
        }
      ],
      "source": [
        "df.isnull().sum()"
      ]
    },
    {
      "cell_type": "markdown",
      "id": "059e855a",
      "metadata": {
        "id": "059e855a"
      },
      "source": [
        "* **5. Looking at the statistical description of the data**"
      ]
    },
    {
      "cell_type": "code",
      "execution_count": 9,
      "id": "9e337dbf",
      "metadata": {
        "colab": {
          "base_uri": "https://localhost:8080/",
          "height": 300
        },
        "id": "9e337dbf",
        "outputId": "d9389269-ce72-484f-ed87-a55b99fbe973"
      },
      "outputs": [
        {
          "data": {
            "text/html": [
              "<div>\n",
              "<style scoped>\n",
              "    .dataframe tbody tr th:only-of-type {\n",
              "        vertical-align: middle;\n",
              "    }\n",
              "\n",
              "    .dataframe tbody tr th {\n",
              "        vertical-align: top;\n",
              "    }\n",
              "\n",
              "    .dataframe thead th {\n",
              "        text-align: right;\n",
              "    }\n",
              "</style>\n",
              "<table border=\"1\" class=\"dataframe\">\n",
              "  <thead>\n",
              "    <tr style=\"text-align: right;\">\n",
              "      <th></th>\n",
              "      <th>age</th>\n",
              "      <th>hypertension</th>\n",
              "      <th>heart_disease</th>\n",
              "      <th>avg_glucose_level</th>\n",
              "      <th>bmi</th>\n",
              "      <th>stroke</th>\n",
              "    </tr>\n",
              "  </thead>\n",
              "  <tbody>\n",
              "    <tr>\n",
              "      <th>count</th>\n",
              "      <td>5110.000000</td>\n",
              "      <td>5110.000000</td>\n",
              "      <td>5110.000000</td>\n",
              "      <td>5110.000000</td>\n",
              "      <td>4909.000000</td>\n",
              "      <td>5110.000000</td>\n",
              "    </tr>\n",
              "    <tr>\n",
              "      <th>mean</th>\n",
              "      <td>43.226614</td>\n",
              "      <td>0.097456</td>\n",
              "      <td>0.054012</td>\n",
              "      <td>106.147677</td>\n",
              "      <td>28.893237</td>\n",
              "      <td>0.048728</td>\n",
              "    </tr>\n",
              "    <tr>\n",
              "      <th>std</th>\n",
              "      <td>22.612647</td>\n",
              "      <td>0.296607</td>\n",
              "      <td>0.226063</td>\n",
              "      <td>45.283560</td>\n",
              "      <td>7.854067</td>\n",
              "      <td>0.215320</td>\n",
              "    </tr>\n",
              "    <tr>\n",
              "      <th>min</th>\n",
              "      <td>0.080000</td>\n",
              "      <td>0.000000</td>\n",
              "      <td>0.000000</td>\n",
              "      <td>55.120000</td>\n",
              "      <td>10.300000</td>\n",
              "      <td>0.000000</td>\n",
              "    </tr>\n",
              "    <tr>\n",
              "      <th>25%</th>\n",
              "      <td>25.000000</td>\n",
              "      <td>0.000000</td>\n",
              "      <td>0.000000</td>\n",
              "      <td>77.245000</td>\n",
              "      <td>23.500000</td>\n",
              "      <td>0.000000</td>\n",
              "    </tr>\n",
              "    <tr>\n",
              "      <th>50%</th>\n",
              "      <td>45.000000</td>\n",
              "      <td>0.000000</td>\n",
              "      <td>0.000000</td>\n",
              "      <td>91.885000</td>\n",
              "      <td>28.100000</td>\n",
              "      <td>0.000000</td>\n",
              "    </tr>\n",
              "    <tr>\n",
              "      <th>75%</th>\n",
              "      <td>61.000000</td>\n",
              "      <td>0.000000</td>\n",
              "      <td>0.000000</td>\n",
              "      <td>114.090000</td>\n",
              "      <td>33.100000</td>\n",
              "      <td>0.000000</td>\n",
              "    </tr>\n",
              "    <tr>\n",
              "      <th>max</th>\n",
              "      <td>82.000000</td>\n",
              "      <td>1.000000</td>\n",
              "      <td>1.000000</td>\n",
              "      <td>271.740000</td>\n",
              "      <td>97.600000</td>\n",
              "      <td>1.000000</td>\n",
              "    </tr>\n",
              "  </tbody>\n",
              "</table>\n",
              "</div>"
            ],
            "text/plain": [
              "               age  hypertension  heart_disease  avg_glucose_level  \\\n",
              "count  5110.000000   5110.000000    5110.000000        5110.000000   \n",
              "mean     43.226614      0.097456       0.054012         106.147677   \n",
              "std      22.612647      0.296607       0.226063          45.283560   \n",
              "min       0.080000      0.000000       0.000000          55.120000   \n",
              "25%      25.000000      0.000000       0.000000          77.245000   \n",
              "50%      45.000000      0.000000       0.000000          91.885000   \n",
              "75%      61.000000      0.000000       0.000000         114.090000   \n",
              "max      82.000000      1.000000       1.000000         271.740000   \n",
              "\n",
              "               bmi       stroke  \n",
              "count  4909.000000  5110.000000  \n",
              "mean     28.893237     0.048728  \n",
              "std       7.854067     0.215320  \n",
              "min      10.300000     0.000000  \n",
              "25%      23.500000     0.000000  \n",
              "50%      28.100000     0.000000  \n",
              "75%      33.100000     0.000000  \n",
              "max      97.600000     1.000000  "
            ]
          },
          "execution_count": 9,
          "metadata": {},
          "output_type": "execute_result"
        }
      ],
      "source": [
        "df.describe()"
      ]
    },
    {
      "cell_type": "markdown",
      "id": "4f9fcecf",
      "metadata": {
        "id": "4f9fcecf"
      },
      "source": [
        "* **6. Checking for the presence of duplicate values**"
      ]
    },
    {
      "cell_type": "code",
      "execution_count": 10,
      "id": "c67ca50b",
      "metadata": {
        "colab": {
          "base_uri": "https://localhost:8080/"
        },
        "id": "c67ca50b",
        "outputId": "39e38ba6-50d2-487c-aa57-4bcdc545b1c6"
      },
      "outputs": [
        {
          "data": {
            "text/plain": [
              "0"
            ]
          },
          "execution_count": 10,
          "metadata": {},
          "output_type": "execute_result"
        }
      ],
      "source": [
        "df.duplicated().sum()"
      ]
    },
    {
      "cell_type": "markdown",
      "id": "e2a48e89",
      "metadata": {
        "id": "e2a48e89"
      },
      "source": [
        "* **7. Checking the correlation between the numerical columns**\n"
      ]
    },
    {
      "cell_type": "code",
      "execution_count": 11,
      "id": "fbdc14b9",
      "metadata": {
        "id": "fbdc14b9"
      },
      "outputs": [],
      "source": [
        "num_col= df.select_dtypes(['int','float'])"
      ]
    },
    {
      "cell_type": "code",
      "execution_count": 12,
      "id": "f3c1e6b1",
      "metadata": {
        "colab": {
          "base_uri": "https://localhost:8080/",
          "height": 237
        },
        "id": "f3c1e6b1",
        "outputId": "8b87acd2-048d-45a5-a151-d84feaa580aa"
      },
      "outputs": [
        {
          "data": {
            "text/html": [
              "<div>\n",
              "<style scoped>\n",
              "    .dataframe tbody tr th:only-of-type {\n",
              "        vertical-align: middle;\n",
              "    }\n",
              "\n",
              "    .dataframe tbody tr th {\n",
              "        vertical-align: top;\n",
              "    }\n",
              "\n",
              "    .dataframe thead th {\n",
              "        text-align: right;\n",
              "    }\n",
              "</style>\n",
              "<table border=\"1\" class=\"dataframe\">\n",
              "  <thead>\n",
              "    <tr style=\"text-align: right;\">\n",
              "      <th></th>\n",
              "      <th>age</th>\n",
              "      <th>hypertension</th>\n",
              "      <th>heart_disease</th>\n",
              "      <th>avg_glucose_level</th>\n",
              "      <th>bmi</th>\n",
              "      <th>stroke</th>\n",
              "    </tr>\n",
              "  </thead>\n",
              "  <tbody>\n",
              "    <tr>\n",
              "      <th>age</th>\n",
              "      <td>1.000000</td>\n",
              "      <td>0.276398</td>\n",
              "      <td>0.263796</td>\n",
              "      <td>0.238171</td>\n",
              "      <td>0.333398</td>\n",
              "      <td>0.245257</td>\n",
              "    </tr>\n",
              "    <tr>\n",
              "      <th>hypertension</th>\n",
              "      <td>0.276398</td>\n",
              "      <td>1.000000</td>\n",
              "      <td>0.108306</td>\n",
              "      <td>0.174474</td>\n",
              "      <td>0.167811</td>\n",
              "      <td>0.127904</td>\n",
              "    </tr>\n",
              "    <tr>\n",
              "      <th>heart_disease</th>\n",
              "      <td>0.263796</td>\n",
              "      <td>0.108306</td>\n",
              "      <td>1.000000</td>\n",
              "      <td>0.161857</td>\n",
              "      <td>0.041357</td>\n",
              "      <td>0.134914</td>\n",
              "    </tr>\n",
              "    <tr>\n",
              "      <th>avg_glucose_level</th>\n",
              "      <td>0.238171</td>\n",
              "      <td>0.174474</td>\n",
              "      <td>0.161857</td>\n",
              "      <td>1.000000</td>\n",
              "      <td>0.175502</td>\n",
              "      <td>0.131945</td>\n",
              "    </tr>\n",
              "    <tr>\n",
              "      <th>bmi</th>\n",
              "      <td>0.333398</td>\n",
              "      <td>0.167811</td>\n",
              "      <td>0.041357</td>\n",
              "      <td>0.175502</td>\n",
              "      <td>1.000000</td>\n",
              "      <td>0.042374</td>\n",
              "    </tr>\n",
              "    <tr>\n",
              "      <th>stroke</th>\n",
              "      <td>0.245257</td>\n",
              "      <td>0.127904</td>\n",
              "      <td>0.134914</td>\n",
              "      <td>0.131945</td>\n",
              "      <td>0.042374</td>\n",
              "      <td>1.000000</td>\n",
              "    </tr>\n",
              "  </tbody>\n",
              "</table>\n",
              "</div>"
            ],
            "text/plain": [
              "                        age  hypertension  heart_disease  avg_glucose_level  \\\n",
              "age                1.000000      0.276398       0.263796           0.238171   \n",
              "hypertension       0.276398      1.000000       0.108306           0.174474   \n",
              "heart_disease      0.263796      0.108306       1.000000           0.161857   \n",
              "avg_glucose_level  0.238171      0.174474       0.161857           1.000000   \n",
              "bmi                0.333398      0.167811       0.041357           0.175502   \n",
              "stroke             0.245257      0.127904       0.134914           0.131945   \n",
              "\n",
              "                        bmi    stroke  \n",
              "age                0.333398  0.245257  \n",
              "hypertension       0.167811  0.127904  \n",
              "heart_disease      0.041357  0.134914  \n",
              "avg_glucose_level  0.175502  0.131945  \n",
              "bmi                1.000000  0.042374  \n",
              "stroke             0.042374  1.000000  "
            ]
          },
          "execution_count": 12,
          "metadata": {},
          "output_type": "execute_result"
        }
      ],
      "source": [
        "num_col.corr()"
      ]
    },
    {
      "cell_type": "markdown",
      "id": "793df563",
      "metadata": {
        "id": "793df563"
      },
      "source": [
        "</br>"
      ]
    },
    {
      "cell_type": "markdown",
      "id": "85fa4019",
      "metadata": {
        "id": "85fa4019"
      },
      "source": [
        "## **Univariate EDA**"
      ]
    },
    {
      "cell_type": "code",
      "execution_count": 13,
      "id": "adc33659",
      "metadata": {
        "colab": {
          "base_uri": "https://localhost:8080/"
        },
        "id": "adc33659",
        "outputId": "c044ea09-4b23-4cdb-aba6-0175bda91061"
      },
      "outputs": [
        {
          "data": {
            "text/plain": [
              "gender                object\n",
              "age                  float64\n",
              "hypertension           int64\n",
              "heart_disease          int64\n",
              "ever_married          object\n",
              "work_type             object\n",
              "Residence_type        object\n",
              "avg_glucose_level    float64\n",
              "bmi                  float64\n",
              "smoking_status        object\n",
              "stroke                 int64\n",
              "dtype: object"
            ]
          },
          "execution_count": 13,
          "metadata": {},
          "output_type": "execute_result"
        }
      ],
      "source": [
        "df.dtypes\n"
      ]
    },
    {
      "cell_type": "markdown",
      "id": "0400bffb",
      "metadata": {
        "id": "0400bffb"
      },
      "source": [
        "#### Columns\n",
        "* **Numerical(continuous)** - age, avg_glucose_lvl, bmi\n",
        "* **categorical** - gender, ever_married, work_type, residence_type, hypertension, heart_disease, stroke\n"
      ]
    },
    {
      "cell_type": "markdown",
      "id": "2ed10a44",
      "metadata": {
        "id": "2ed10a44"
      },
      "source": [
        "### Histplot"
      ]
    },
    {
      "cell_type": "code",
      "execution_count": 14,
      "id": "b1676faf",
      "metadata": {
        "colab": {
          "base_uri": "https://localhost:8080/",
          "height": 464
        },
        "id": "b1676faf",
        "outputId": "b3c168c9-a3cf-4205-fca5-03084eb42b6d"
      },
      "outputs": [
        {
          "data": {
            "image/png": "[encoded data removed]",
            "text/plain": [
              "<Figure size 700x300 with 2 Axes>"
            ]
          },
          "metadata": {},
          "output_type": "display_data"
        },
        {
          "name": "stdout",
          "output_type": "stream",
          "text": [
            "gender\n",
            "Female    2994\n",
            "Male      2115\n",
            "Other        1\n",
            "Name: count, dtype: int64\n"
          ]
        }
      ],
      "source": [
        "fig= plt.figure(figsize = (7,3))\n",
        "fig.suptitle(\"GENDER\")\n",
        "\n",
        "plt.subplot(1,2,1)\n",
        "df['gender'].value_counts().plot(kind = 'bar')\n",
        "\n",
        "plt.subplot(1,2,2)\n",
        "df['gender'].value_counts().plot(kind = 'pie', autopct= '%0.1f%%')\n",
        "plt.show()\n",
        "\n",
        "print(df.gender.value_counts())"
      ]
    },
    {
      "cell_type": "code",
      "execution_count": 15,
      "id": "40fbef1c",
      "metadata": {
        "colab": {
          "base_uri": "https://localhost:8080/",
          "height": 405
        },
        "id": "40fbef1c",
        "outputId": "0e54dfc9-da9f-4f58-d50d-bbb9e1406755"
      },
      "outputs": [
        {
          "data": {
            "image/png": "[encoded data removed]",
            "text/plain": [
              "<Figure size 700x300 with 2 Axes>"
            ]
          },
          "metadata": {},
          "output_type": "display_data"
        },
        {
          "name": "stdout",
          "output_type": "stream",
          "text": [
            "hypertension\n",
            "0    4612\n",
            "1     498\n",
            "Name: count, dtype: int64\n"
          ]
        }
      ],
      "source": [
        "fig= plt.figure(figsize = (7,3))\n",
        "fig.suptitle(\"HYPERTENSION\")\n",
        "\n",
        "plt.subplot(1,2,1)\n",
        "df['hypertension'].value_counts().plot(kind = 'bar')\n",
        "\n",
        "plt.subplot(1,2,2)\n",
        "df['hypertension'].value_counts().plot(kind = 'pie', autopct= '%0.1f%%')\n",
        "plt.show()\n",
        "\n",
        "print(df['hypertension'].value_counts())"
      ]
    },
    {
      "cell_type": "code",
      "execution_count": 16,
      "id": "a4d574ec",
      "metadata": {
        "colab": {
          "base_uri": "https://localhost:8080/",
          "height": 418
        },
        "id": "a4d574ec",
        "outputId": "95282926-87bc-4513-ca1b-9a9a46cc3d63"
      },
      "outputs": [
        {
          "data": {
            "image/png": "[encoded data removed]",
            "text/plain": [
              "<Figure size 700x300 with 2 Axes>"
            ]
          },
          "metadata": {},
          "output_type": "display_data"
        },
        {
          "name": "stdout",
          "output_type": "stream",
          "text": [
            "ever_married\n",
            "Yes    3353\n",
            "No     1757\n",
            "Name: count, dtype: int64\n"
          ]
        }
      ],
      "source": [
        "fig= plt.figure(figsize = (7,3))\n",
        "fig.suptitle(\"EVER MARRIED\")\n",
        "\n",
        "plt.subplot(1,2,1)\n",
        "df['ever_married'].value_counts().plot(kind = 'bar')\n",
        "\n",
        "plt.subplot(1,2,2)\n",
        "df['ever_married'].value_counts().plot(kind = 'pie', autopct= '%0.1f%%')\n",
        "plt.show()\n",
        "\n",
        "print(df['ever_married'].value_counts())"
      ]
    },
    {
      "cell_type": "code",
      "execution_count": 17,
      "id": "bd32aed9",
      "metadata": {
        "colab": {
          "base_uri": "https://localhost:8080/",
          "height": 547
        },
        "id": "bd32aed9",
        "outputId": "4e2b26ec-3584-4076-a0d2-5c4a5bb698c5"
      },
      "outputs": [
        {
          "data": {
            "image/png": "[encoded data removed]",
            "text/plain": [
              "<Figure size 700x300 with 2 Axes>"
            ]
          },
          "metadata": {},
          "output_type": "display_data"
        },
        {
          "name": "stdout",
          "output_type": "stream",
          "text": [
            "work_type\n",
            "Private          2925\n",
            "Self-employed     819\n",
            "children          687\n",
            "Govt_job          657\n",
            "Never_worked       22\n",
            "Name: count, dtype: int64\n"
          ]
        }
      ],
      "source": [
        "fig= plt.figure(figsize = (7,3))\n",
        "fig.suptitle(\"WORK TYPE\")\n",
        "\n",
        "plt.subplot(1,2,1)\n",
        "df['work_type'].value_counts().plot(kind = 'bar')\n",
        "\n",
        "plt.subplot(1,2,2)\n",
        "df['work_type'].value_counts().plot(kind = 'pie', autopct= '%0.1f%%')\n",
        "plt.show()\n",
        "\n",
        "print(df['work_type'].value_counts())"
      ]
    },
    {
      "cell_type": "code",
      "execution_count": 18,
      "id": "828527bc",
      "metadata": {
        "colab": {
          "base_uri": "https://localhost:8080/",
          "height": 438
        },
        "id": "828527bc",
        "outputId": "3171c56c-f6ec-471c-af61-7018ce33e062"
      },
      "outputs": [
        {
          "data": {
            "image/png": "[encoded data removed]",
            "text/plain": [
              "<Figure size 700x300 with 2 Axes>"
            ]
          },
          "metadata": {},
          "output_type": "display_data"
        },
        {
          "name": "stdout",
          "output_type": "stream",
          "text": [
            "Residence_type\n",
            "Urban    2596\n",
            "Rural    2514\n",
            "Name: count, dtype: int64\n"
          ]
        }
      ],
      "source": [
        "fig= plt.figure(figsize = (7,3))\n",
        "fig.suptitle(\"RESIDENCE\")\n",
        "\n",
        "plt.subplot(1,2,1)\n",
        "df['Residence_type'].value_counts().plot(kind = 'bar')\n",
        "\n",
        "plt.subplot(1,2,2)\n",
        "df['Residence_type'].value_counts().plot(kind = 'pie', autopct= '%0.1f%%')\n",
        "plt.show()\n",
        "\n",
        "print(df['Residence_type'].value_counts())"
      ]
    },
    {
      "cell_type": "code",
      "execution_count": 19,
      "id": "2c94551c",
      "metadata": {
        "colab": {
          "base_uri": "https://localhost:8080/",
          "height": 405
        },
        "id": "2c94551c",
        "outputId": "fb4b6e98-e40a-4b19-93a8-5722b510604c"
      },
      "outputs": [
        {
          "data": {
            "image/png": "[encoded data removed]",
            "text/plain": [
              "<Figure size 700x300 with 2 Axes>"
            ]
          },
          "metadata": {},
          "output_type": "display_data"
        },
        {
          "name": "stdout",
          "output_type": "stream",
          "text": [
            "heart_disease\n",
            "0    4834\n",
            "1     276\n",
            "Name: count, dtype: int64\n"
          ]
        }
      ],
      "source": [
        "fig= plt.figure(figsize = (7,3))\n",
        "fig.suptitle(\"HEART DISEASE\")\n",
        "\n",
        "plt.subplot(1,2,1)\n",
        "df['heart_disease'].value_counts().plot(kind = 'bar')\n",
        "\n",
        "plt.subplot(1,2,2)\n",
        "df['heart_disease'].value_counts().plot(kind = 'pie', autopct= '%0.1f%%')\n",
        "plt.show()\n",
        "\n",
        "print(df['heart_disease'].value_counts())"
      ]
    },
    {
      "cell_type": "code",
      "execution_count": 20,
      "id": "d794e8bb",
      "metadata": {
        "colab": {
          "base_uri": "https://localhost:8080/",
          "height": 405
        },
        "id": "d794e8bb",
        "outputId": "af8aa480-ab2e-4e91-eea2-557c298777e1"
      },
      "outputs": [
        {
          "data": {
            "image/png": "[encoded data removed]",
            "text/plain": [
              "<Figure size 700x300 with 2 Axes>"
            ]
          },
          "metadata": {},
          "output_type": "display_data"
        },
        {
          "name": "stdout",
          "output_type": "stream",
          "text": [
            "stroke\n",
            "0    4861\n",
            "1     249\n",
            "Name: count, dtype: int64\n"
          ]
        }
      ],
      "source": [
        "fig= plt.figure(figsize = (7,3))\n",
        "fig.suptitle(\"STROKE\")\n",
        "\n",
        "plt.subplot(1,2,1)\n",
        "df['stroke'].value_counts().plot(kind = 'bar')\n",
        "\n",
        "plt.subplot(1,2,2)\n",
        "df['stroke'].value_counts().plot(kind = 'pie', autopct= '%0.1f%%')\n",
        "plt.show()\n",
        "\n",
        "print(df['stroke'].value_counts())"
      ]
    },
    {
      "cell_type": "markdown",
      "id": "d9d2b577",
      "metadata": {
        "id": "d9d2b577"
      },
      "source": [
        "* **Conclusion from univariate EDA of categorical columns**\n",
        "\n",
        "we have a single record of geneder belonging to other categories so we can remove it\n",
        "\n",
        "female observations are more compared to males\n",
        "\n",
        "data is equally collected from both urban and rural areas\n",
        "\n",
        "majority of the people are private employees"
      ]
    },
    {
      "cell_type": "markdown",
      "id": "efae12ae",
      "metadata": {
        "id": "efae12ae"
      },
      "source": [
        "</br>"
      ]
    },
    {
      "cell_type": "markdown",
      "id": "84d984b8",
      "metadata": {
        "id": "84d984b8"
      },
      "source": [
        "</br>"
      ]
    },
    {
      "cell_type": "markdown",
      "id": "4ed7fc88",
      "metadata": {
        "id": "4ed7fc88"
      },
      "source": [
        "</br>"
      ]
    },
    {
      "cell_type": "markdown",
      "id": "d8633cf2",
      "metadata": {
        "id": "d8633cf2"
      },
      "source": [
        "</br>"
      ]
    },
    {
      "cell_type": "markdown",
      "id": "23fc6194",
      "metadata": {
        "id": "23fc6194"
      },
      "source": [
        "### Outlier Detection"
      ]
    },
    {
      "cell_type": "code",
      "execution_count": 21,
      "id": "25085c1a",
      "metadata": {
        "colab": {
          "base_uri": "https://localhost:8080/",
          "height": 325
        },
        "id": "25085c1a",
        "outputId": "f42e467b-1215-49df-92a0-3fea19d4f938"
      },
      "outputs": [
        {
          "data": {
            "image/png": "[encoded data removed]",
            "text/plain": [
              "<Figure size 1000x300 with 3 Axes>"
            ]
          },
          "metadata": {},
          "output_type": "display_data"
        }
      ],
      "source": [
        "cont_cols = df[['age','avg_glucose_level','bmi']]\n",
        "fig, axs = plt.subplots(ncols= 3, nrows= 1, figsize = (10,3))\n",
        "axs = axs.flatten()\n",
        "i = 0\n",
        "for col in cont_cols.columns:\n",
        "    sns.boxplot(x= col, data= cont_cols, ax= axs[i])\n",
        "    i += 1\n",
        "plt.tight_layout(pad=0.4, w_pad=0.5, h_pad=5.0)"
      ]
    },
    {
      "cell_type": "markdown",
      "id": "40b395ea",
      "metadata": {
        "id": "40b395ea"
      },
      "source": [
        "</br>"
      ]
    },
    {
      "cell_type": "markdown",
      "id": "b98e07c3",
      "metadata": {
        "id": "b98e07c3"
      },
      "source": [
        "**age**\n",
        "\n",
        "**conclusion**\n",
        "\n",
        "distribution is almost normal with heavier tails\n",
        "\n",
        "there are no null values and outliers"
      ]
    },
    {
      "cell_type": "code",
      "execution_count": 22,
      "id": "ed0b7a1a",
      "metadata": {
        "colab": {
          "base_uri": "https://localhost:8080/"
        },
        "id": "ed0b7a1a",
        "outputId": "dea49788-eb8a-4506-ef36-63df1e3cbf05"
      },
      "outputs": [
        {
          "name": "stdout",
          "output_type": "stream",
          "text": [
            "<class 'pandas.core.series.Series'>\n",
            "RangeIndex: 5110 entries, 0 to 5109\n",
            "Series name: age\n",
            "Non-Null Count  Dtype  \n",
            "--------------  -----  \n",
            "5110 non-null   float64\n",
            "dtypes: float64(1)\n",
            "memory usage: 40.0 KB\n"
          ]
        }
      ],
      "source": [
        "df.age.info()"
      ]
    },
    {
      "cell_type": "code",
      "execution_count": 23,
      "id": "5abd5b81",
      "metadata": {
        "colab": {
          "base_uri": "https://localhost:8080/"
        },
        "id": "5abd5b81",
        "outputId": "a2e5cf6b-71d7-413a-ca12-e8cba81dd4c7"
      },
      "outputs": [
        {
          "data": {
            "text/plain": [
              "count    5110.000000\n",
              "mean       43.226614\n",
              "std        22.612647\n",
              "min         0.080000\n",
              "25%        25.000000\n",
              "50%        45.000000\n",
              "75%        61.000000\n",
              "max        82.000000\n",
              "Name: age, dtype: float64"
            ]
          },
          "execution_count": 23,
          "metadata": {},
          "output_type": "execute_result"
        }
      ],
      "source": [
        "df.age.describe()"
      ]
    },
    {
      "cell_type": "code",
      "execution_count": 24,
      "id": "37bdb133",
      "metadata": {
        "colab": {
          "base_uri": "https://localhost:8080/",
          "height": 325
        },
        "id": "37bdb133",
        "outputId": "aca83468-8b7e-46fb-dad1-3baf42c9730c"
      },
      "outputs": [
        {
          "data": {
            "image/png": "[encoded data removed]",
            "text/plain": [
              "<Figure size 1000x300 with 2 Axes>"
            ]
          },
          "metadata": {},
          "output_type": "display_data"
        }
      ],
      "source": [
        "'''\n",
        "Boxplot and KDE plot for the age column\n",
        "'''\n",
        "\n",
        "figure, ax = plt.subplots(ncols = 2, nrows=  1,figsize =(10,3))\n",
        "ax = ax.flatten()\n",
        "sns.boxplot(x= df.age, ax = ax[0])\n",
        "sns.distplot(x= df.age, ax= ax[1], hist= True)\n",
        "plt.tight_layout(pad=0.4, w_pad=0.5, h_pad=5.0)"
      ]
    },
    {
      "cell_type": "markdown",
      "id": "59683121",
      "metadata": {
        "id": "59683121"
      },
      "source": [
        "</br>"
      ]
    },
    {
      "cell_type": "markdown",
      "id": "5804db26",
      "metadata": {
        "id": "5804db26"
      },
      "source": [
        "</br>"
      ]
    },
    {
      "cell_type": "markdown",
      "id": "01151adb",
      "metadata": {
        "id": "01151adb"
      },
      "source": [
        "</br>"
      ]
    },
    {
      "cell_type": "markdown",
      "id": "e91b1b79",
      "metadata": {
        "id": "e91b1b79"
      },
      "source": [
        "</br>"
      ]
    },
    {
      "cell_type": "markdown",
      "id": "704f20f3",
      "metadata": {
        "id": "704f20f3"
      },
      "source": [
        "**Avg_glucose_lvl**\n",
        "\n",
        "distribution is right skewed due to the presence of outliers\n",
        "\n",
        "these outliers are not noise and are data which are potentially valid and can help us gain more insights into our data\n",
        "\n",
        "**627** observations were classified as outliers\n",
        "\n",
        "**376** observations in the dataset are prediabetic (average_sugar_level in the range 140-199)\n",
        "More Females are prediabetic than Males\n",
        "\n",
        "\n",
        "**455** observations in the dataset are diabetic (average_sugar_level > 199)\n",
        "More Females are diabetic than Males\n",
        "\n",
        "\n",
        "\n",
        "</br>\n",
        "</br>\n",
        "</br>\n",
        "\n",
        "**Conclusions**\n",
        "\n",
        "we can split the **average_glucose_level** column into 3 seperate columns namely **normal_glucose_level, high_glucose_level** and **very_high_glucose_level** for better understanding of the data"
      ]
    },
    {
      "cell_type": "code",
      "execution_count": 25,
      "id": "442667e4",
      "metadata": {
        "colab": {
          "base_uri": "https://localhost:8080/",
          "height": 325
        },
        "id": "442667e4",
        "outputId": "c08128ba-2114-46db-feae-1f60eb7e8788"
      },
      "outputs": [
        {
          "data": {
            "image/png": "[encoded data removed]",
            "text/plain": [
              "<Figure size 1000x300 with 2 Axes>"
            ]
          },
          "metadata": {},
          "output_type": "display_data"
        }
      ],
      "source": [
        "'''\n",
        "Boxplot and KDE plot for the avg_glucose_level column\n",
        "'''\n",
        "\n",
        "figure, ax = plt.subplots(ncols = 2, nrows=  1,figsize =(10,3))\n",
        "ax = ax.flatten()\n",
        "sns.boxplot(x= df.avg_glucose_level, ax = ax[0])\n",
        "sns.distplot(x= df.avg_glucose_level, ax= ax[1], hist= False)\n",
        "plt.tight_layout(pad=0.4, w_pad=0.5, h_pad=5.0)"
      ]
    },
    {
      "cell_type": "code",
      "execution_count": 26,
      "id": "fca1daa9",
      "metadata": {
        "colab": {
          "base_uri": "https://localhost:8080/"
        },
        "id": "fca1daa9",
        "outputId": "3b631adf-a4c8-4793-b575-7549cff4b491"
      },
      "outputs": [
        {
          "name": "stdout",
          "output_type": "stream",
          "text": [
            "<class 'pandas.core.series.Series'>\n",
            "RangeIndex: 5110 entries, 0 to 5109\n",
            "Series name: avg_glucose_level\n",
            "Non-Null Count  Dtype  \n",
            "--------------  -----  \n",
            "5110 non-null   float64\n",
            "dtypes: float64(1)\n",
            "memory usage: 40.0 KB\n"
          ]
        }
      ],
      "source": [
        "df.avg_glucose_level.info()"
      ]
    },
    {
      "cell_type": "code",
      "execution_count": 27,
      "id": "182f972e",
      "metadata": {
        "colab": {
          "base_uri": "https://localhost:8080/"
        },
        "id": "182f972e",
        "outputId": "3778f309-080e-4c24-b4ce-fff023e59671"
      },
      "outputs": [
        {
          "data": {
            "text/plain": [
              "count    5110.000000\n",
              "mean      106.147677\n",
              "std        45.283560\n",
              "min        55.120000\n",
              "25%        77.245000\n",
              "50%        91.885000\n",
              "75%       114.090000\n",
              "max       271.740000\n",
              "Name: avg_glucose_level, dtype: float64"
            ]
          },
          "execution_count": 27,
          "metadata": {},
          "output_type": "execute_result"
        }
      ],
      "source": [
        "#statistical data of the avg_glucose_level column\n",
        "df.avg_glucose_level.describe()"
      ]
    },
    {
      "cell_type": "code",
      "execution_count": 28,
      "id": "f9415b65",
      "metadata": {
        "colab": {
          "base_uri": "https://localhost:8080/"
        },
        "id": "f9415b65",
        "outputId": "c4dcc3d7-043b-48bb-f79b-e1a80a78bdbe"
      },
      "outputs": [
        {
          "name": "stdout",
          "output_type": "stream",
          "text": [
            "average_glucose_level upper limit : 169.35750000000002\n",
            "average_glucose_level lower limit: 21.977500000000006\n",
            "average_glucose_level IQR: 36.845\n"
          ]
        }
      ],
      "source": [
        "agl_q3 = df['avg_glucose_level'].quantile(0.75)\n",
        "agl_q1 = df['avg_glucose_level'].quantile(0.25)\n",
        "\n",
        "\n",
        "agl_iqr = agl_q3 - agl_q1                   #average_glucose_level inter quartile range\n",
        "agl_upper_limit = agl_q3 + 1.5*agl_iqr      #average_glucose_level upper limit from the box plot\n",
        "agl_lower_limit = agl_q1 - 1.5*agl_iqr      #average_glucose_level lower limit from the box plot\n",
        "\n",
        "\n",
        "print(f\"average_glucose_level upper limit : {agl_upper_limit}\\n\\\n",
        "average_glucose_level lower limit: {agl_lower_limit}\\n\\\n",
        "average_glucose_level IQR: { agl_iqr}\")"
      ]
    },
    {
      "cell_type": "code",
      "execution_count": 29,
      "id": "8d4f7eb9",
      "metadata": {
        "colab": {
          "base_uri": "https://localhost:8080/"
        },
        "id": "8d4f7eb9",
        "outputId": "e224482a-3040-45f4-b52d-42e404b60820"
      },
      "outputs": [
        {
          "data": {
            "text/plain": [
              "(627, 11)"
            ]
          },
          "execution_count": 29,
          "metadata": {},
          "output_type": "execute_result"
        }
      ],
      "source": [
        "df[(df['avg_glucose_level']>= agl_upper_limit)].shape"
      ]
    },
    {
      "cell_type": "code",
      "execution_count": 30,
      "id": "68b976c9",
      "metadata": {
        "colab": {
          "base_uri": "https://localhost:8080/",
          "height": 206
        },
        "id": "68b976c9",
        "outputId": "016a80cd-a355-4467-9a95-8f1b577525e6"
      },
      "outputs": [
        {
          "data": {
            "text/html": [
              "<div>\n",
              "<style scoped>\n",
              "    .dataframe tbody tr th:only-of-type {\n",
              "        vertical-align: middle;\n",
              "    }\n",
              "\n",
              "    .dataframe tbody tr th {\n",
              "        vertical-align: top;\n",
              "    }\n",
              "\n",
              "    .dataframe thead th {\n",
              "        text-align: right;\n",
              "    }\n",
              "</style>\n",
              "<table border=\"1\" class=\"dataframe\">\n",
              "  <thead>\n",
              "    <tr style=\"text-align: right;\">\n",
              "      <th></th>\n",
              "      <th>gender</th>\n",
              "      <th>age</th>\n",
              "      <th>hypertension</th>\n",
              "      <th>heart_disease</th>\n",
              "      <th>ever_married</th>\n",
              "      <th>work_type</th>\n",
              "      <th>Residence_type</th>\n",
              "      <th>avg_glucose_level</th>\n",
              "      <th>bmi</th>\n",
              "      <th>smoking_status</th>\n",
              "      <th>stroke</th>\n",
              "    </tr>\n",
              "  </thead>\n",
              "  <tbody>\n",
              "    <tr>\n",
              "      <th>2307</th>\n",
              "      <td>Male</td>\n",
              "      <td>49.0</td>\n",
              "      <td>0</td>\n",
              "      <td>0</td>\n",
              "      <td>Yes</td>\n",
              "      <td>Self-employed</td>\n",
              "      <td>Rural</td>\n",
              "      <td>220.47</td>\n",
              "      <td>36.4</td>\n",
              "      <td>smokes</td>\n",
              "      <td>0</td>\n",
              "    </tr>\n",
              "    <tr>\n",
              "      <th>3148</th>\n",
              "      <td>Male</td>\n",
              "      <td>78.0</td>\n",
              "      <td>0</td>\n",
              "      <td>0</td>\n",
              "      <td>Yes</td>\n",
              "      <td>Self-employed</td>\n",
              "      <td>Urban</td>\n",
              "      <td>201.58</td>\n",
              "      <td>30.6</td>\n",
              "      <td>Unknown</td>\n",
              "      <td>0</td>\n",
              "    </tr>\n",
              "    <tr>\n",
              "      <th>3943</th>\n",
              "      <td>Male</td>\n",
              "      <td>56.0</td>\n",
              "      <td>1</td>\n",
              "      <td>0</td>\n",
              "      <td>Yes</td>\n",
              "      <td>Private</td>\n",
              "      <td>Rural</td>\n",
              "      <td>206.66</td>\n",
              "      <td>21.9</td>\n",
              "      <td>smokes</td>\n",
              "      <td>0</td>\n",
              "    </tr>\n",
              "    <tr>\n",
              "      <th>5019</th>\n",
              "      <td>Male</td>\n",
              "      <td>29.0</td>\n",
              "      <td>0</td>\n",
              "      <td>0</td>\n",
              "      <td>Yes</td>\n",
              "      <td>Private</td>\n",
              "      <td>Urban</td>\n",
              "      <td>185.27</td>\n",
              "      <td>31.3</td>\n",
              "      <td>never smoked</td>\n",
              "      <td>0</td>\n",
              "    </tr>\n",
              "    <tr>\n",
              "      <th>135</th>\n",
              "      <td>Female</td>\n",
              "      <td>71.0</td>\n",
              "      <td>0</td>\n",
              "      <td>0</td>\n",
              "      <td>Yes</td>\n",
              "      <td>Govt_job</td>\n",
              "      <td>Urban</td>\n",
              "      <td>263.32</td>\n",
              "      <td>38.7</td>\n",
              "      <td>never smoked</td>\n",
              "      <td>1</td>\n",
              "    </tr>\n",
              "  </tbody>\n",
              "</table>\n",
              "</div>"
            ],
            "text/plain": [
              "      gender   age  hypertension  heart_disease ever_married      work_type  \\\n",
              "2307    Male  49.0             0              0          Yes  Self-employed   \n",
              "3148    Male  78.0             0              0          Yes  Self-employed   \n",
              "3943    Male  56.0             1              0          Yes        Private   \n",
              "5019    Male  29.0             0              0          Yes        Private   \n",
              "135   Female  71.0             0              0          Yes       Govt_job   \n",
              "\n",
              "     Residence_type  avg_glucose_level   bmi smoking_status  stroke  \n",
              "2307          Rural             220.47  36.4         smokes       0  \n",
              "3148          Urban             201.58  30.6        Unknown       0  \n",
              "3943          Rural             206.66  21.9         smokes       0  \n",
              "5019          Urban             185.27  31.3   never smoked       0  \n",
              "135           Urban             263.32  38.7   never smoked       1  "
            ]
          },
          "execution_count": 30,
          "metadata": {},
          "output_type": "execute_result"
        }
      ],
      "source": [
        "#checking the data for the patient having glucose level greater then the upper limit\n",
        "df[(df['avg_glucose_level']>= agl_upper_limit)].sample(5)"
      ]
    },
    {
      "cell_type": "code",
      "execution_count": 31,
      "id": "5db42388",
      "metadata": {
        "colab": {
          "base_uri": "https://localhost:8080/"
        },
        "id": "5db42388",
        "outputId": "27be74dc-12ae-47d1-f374-aff1bdbb90a3"
      },
      "outputs": [
        {
          "data": {
            "text/plain": [
              "12.270058708414872"
            ]
          },
          "execution_count": 31,
          "metadata": {},
          "output_type": "execute_result"
        }
      ],
      "source": [
        "#percentage of data points where the average glucose level exceeds the upper limit\n",
        "(len(df['avg_glucose_level'][df['avg_glucose_level']>= agl_upper_limit])/len(df))* 100"
      ]
    },
    {
      "cell_type": "code",
      "execution_count": 32,
      "id": "95402abb",
      "metadata": {
        "colab": {
          "base_uri": "https://localhost:8080/",
          "height": 53
        },
        "id": "95402abb",
        "outputId": "8812310a-029e-404f-e686-02a307a01ded"
      },
      "outputs": [
        {
          "data": {
            "text/html": [
              "<div>\n",
              "<style scoped>\n",
              "    .dataframe tbody tr th:only-of-type {\n",
              "        vertical-align: middle;\n",
              "    }\n",
              "\n",
              "    .dataframe tbody tr th {\n",
              "        vertical-align: top;\n",
              "    }\n",
              "\n",
              "    .dataframe thead th {\n",
              "        text-align: right;\n",
              "    }\n",
              "</style>\n",
              "<table border=\"1\" class=\"dataframe\">\n",
              "  <thead>\n",
              "    <tr style=\"text-align: right;\">\n",
              "      <th></th>\n",
              "      <th>gender</th>\n",
              "      <th>age</th>\n",
              "      <th>hypertension</th>\n",
              "      <th>heart_disease</th>\n",
              "      <th>ever_married</th>\n",
              "      <th>work_type</th>\n",
              "      <th>Residence_type</th>\n",
              "      <th>avg_glucose_level</th>\n",
              "      <th>bmi</th>\n",
              "      <th>smoking_status</th>\n",
              "      <th>stroke</th>\n",
              "    </tr>\n",
              "  </thead>\n",
              "  <tbody>\n",
              "  </tbody>\n",
              "</table>\n",
              "</div>"
            ],
            "text/plain": [
              "Empty DataFrame\n",
              "Columns: [gender, age, hypertension, heart_disease, ever_married, work_type, Residence_type, avg_glucose_level, bmi, smoking_status, stroke]\n",
              "Index: []"
            ]
          },
          "execution_count": 32,
          "metadata": {},
          "output_type": "execute_result"
        }
      ],
      "source": [
        "#checking the data for the patient having glucose level greater then the lower limit\n",
        "df[df['avg_glucose_level'] <= agl_lower_limit]"
      ]
    },
    {
      "cell_type": "code",
      "execution_count": 33,
      "id": "8e3696dd",
      "metadata": {
        "colab": {
          "base_uri": "https://localhost:8080/",
          "height": 317
        },
        "id": "8e3696dd",
        "outputId": "eb6981cf-e4cc-405d-8107-cb9f9d64a726"
      },
      "outputs": [
        {
          "name": "stdout",
          "output_type": "stream",
          "text": [
            "Shape of the data: (376, 11)\n"
          ]
        },
        {
          "data": {
            "text/html": [
              "<div>\n",
              "<style scoped>\n",
              "    .dataframe tbody tr th:only-of-type {\n",
              "        vertical-align: middle;\n",
              "    }\n",
              "\n",
              "    .dataframe tbody tr th {\n",
              "        vertical-align: top;\n",
              "    }\n",
              "\n",
              "    .dataframe thead th {\n",
              "        text-align: right;\n",
              "    }\n",
              "</style>\n",
              "<table border=\"1\" class=\"dataframe\">\n",
              "  <thead>\n",
              "    <tr style=\"text-align: right;\">\n",
              "      <th></th>\n",
              "      <th>age</th>\n",
              "      <th>hypertension</th>\n",
              "      <th>heart_disease</th>\n",
              "      <th>avg_glucose_level</th>\n",
              "      <th>bmi</th>\n",
              "      <th>stroke</th>\n",
              "    </tr>\n",
              "  </thead>\n",
              "  <tbody>\n",
              "    <tr>\n",
              "      <th>count</th>\n",
              "      <td>376.000000</td>\n",
              "      <td>376.000000</td>\n",
              "      <td>376.000000</td>\n",
              "      <td>376.000000</td>\n",
              "      <td>354.000000</td>\n",
              "      <td>376.000000</td>\n",
              "    </tr>\n",
              "    <tr>\n",
              "      <th>mean</th>\n",
              "      <td>49.093404</td>\n",
              "      <td>0.183511</td>\n",
              "      <td>0.095745</td>\n",
              "      <td>169.051755</td>\n",
              "      <td>30.237006</td>\n",
              "      <td>0.090426</td>\n",
              "    </tr>\n",
              "    <tr>\n",
              "      <th>std</th>\n",
              "      <td>21.509895</td>\n",
              "      <td>0.387600</td>\n",
              "      <td>0.294633</td>\n",
              "      <td>19.478269</td>\n",
              "      <td>7.556137</td>\n",
              "      <td>0.287173</td>\n",
              "    </tr>\n",
              "    <tr>\n",
              "      <th>min</th>\n",
              "      <td>0.240000</td>\n",
              "      <td>0.000000</td>\n",
              "      <td>0.000000</td>\n",
              "      <td>140.070000</td>\n",
              "      <td>12.800000</td>\n",
              "      <td>0.000000</td>\n",
              "    </tr>\n",
              "    <tr>\n",
              "      <th>25%</th>\n",
              "      <td>37.000000</td>\n",
              "      <td>0.000000</td>\n",
              "      <td>0.000000</td>\n",
              "      <td>150.405000</td>\n",
              "      <td>25.525000</td>\n",
              "      <td>0.000000</td>\n",
              "    </tr>\n",
              "    <tr>\n",
              "      <th>50%</th>\n",
              "      <td>52.000000</td>\n",
              "      <td>0.000000</td>\n",
              "      <td>0.000000</td>\n",
              "      <td>167.500000</td>\n",
              "      <td>29.100000</td>\n",
              "      <td>0.000000</td>\n",
              "    </tr>\n",
              "    <tr>\n",
              "      <th>75%</th>\n",
              "      <td>65.250000</td>\n",
              "      <td>0.000000</td>\n",
              "      <td>0.000000</td>\n",
              "      <td>188.115000</td>\n",
              "      <td>34.400000</td>\n",
              "      <td>0.000000</td>\n",
              "    </tr>\n",
              "    <tr>\n",
              "      <th>max</th>\n",
              "      <td>82.000000</td>\n",
              "      <td>1.000000</td>\n",
              "      <td>1.000000</td>\n",
              "      <td>198.840000</td>\n",
              "      <td>60.200000</td>\n",
              "      <td>1.000000</td>\n",
              "    </tr>\n",
              "  </tbody>\n",
              "</table>\n",
              "</div>"
            ],
            "text/plain": [
              "              age  hypertension  heart_disease  avg_glucose_level         bmi  \\\n",
              "count  376.000000    376.000000     376.000000         376.000000  354.000000   \n",
              "mean    49.093404      0.183511       0.095745         169.051755   30.237006   \n",
              "std     21.509895      0.387600       0.294633          19.478269    7.556137   \n",
              "min      0.240000      0.000000       0.000000         140.070000   12.800000   \n",
              "25%     37.000000      0.000000       0.000000         150.405000   25.525000   \n",
              "50%     52.000000      0.000000       0.000000         167.500000   29.100000   \n",
              "75%     65.250000      0.000000       0.000000         188.115000   34.400000   \n",
              "max     82.000000      1.000000       1.000000         198.840000   60.200000   \n",
              "\n",
              "           stroke  \n",
              "count  376.000000  \n",
              "mean     0.090426  \n",
              "std      0.287173  \n",
              "min      0.000000  \n",
              "25%      0.000000  \n",
              "50%      0.000000  \n",
              "75%      0.000000  \n",
              "max      1.000000  "
            ]
          },
          "execution_count": 33,
          "metadata": {},
          "output_type": "execute_result"
        }
      ],
      "source": [
        "'''\n",
        "assuming the data was collected without the people being in fasting we know that postpardinal sugar level should be below 140.\n",
        "People who are pre-diabetic are mostly likely to have sugar level ranging from 140-199.\n",
        "The below is the data of the person who have sugar levels in the range 140-199 and are most likely to be pre-diabetic\n",
        "'''\n",
        "prediabetic = df[(df.avg_glucose_level <= 199) & (df.avg_glucose_level >= 140)]\n",
        "\n",
        "print(f'Shape of the data: {prediabetic.shape}')\n",
        "prediabetic.describe()"
      ]
    },
    {
      "cell_type": "code",
      "execution_count": 34,
      "id": "415fc317",
      "metadata": {
        "colab": {
          "base_uri": "https://localhost:8080/",
          "height": 206
        },
        "id": "415fc317",
        "outputId": "ce00e46e-7462-41bd-d87e-fce4e6a62ab2"
      },
      "outputs": [
        {
          "data": {
            "text/html": [
              "<div>\n",
              "<style scoped>\n",
              "    .dataframe tbody tr th:only-of-type {\n",
              "        vertical-align: middle;\n",
              "    }\n",
              "\n",
              "    .dataframe tbody tr th {\n",
              "        vertical-align: top;\n",
              "    }\n",
              "\n",
              "    .dataframe thead th {\n",
              "        text-align: right;\n",
              "    }\n",
              "</style>\n",
              "<table border=\"1\" class=\"dataframe\">\n",
              "  <thead>\n",
              "    <tr style=\"text-align: right;\">\n",
              "      <th></th>\n",
              "      <th>gender</th>\n",
              "      <th>age</th>\n",
              "      <th>hypertension</th>\n",
              "      <th>heart_disease</th>\n",
              "      <th>ever_married</th>\n",
              "      <th>work_type</th>\n",
              "      <th>Residence_type</th>\n",
              "      <th>avg_glucose_level</th>\n",
              "      <th>bmi</th>\n",
              "      <th>smoking_status</th>\n",
              "      <th>stroke</th>\n",
              "    </tr>\n",
              "  </thead>\n",
              "  <tbody>\n",
              "    <tr>\n",
              "      <th>3931</th>\n",
              "      <td>Female</td>\n",
              "      <td>73.0</td>\n",
              "      <td>1</td>\n",
              "      <td>0</td>\n",
              "      <td>No</td>\n",
              "      <td>Self-employed</td>\n",
              "      <td>Rural</td>\n",
              "      <td>198.30</td>\n",
              "      <td>54.3</td>\n",
              "      <td>formerly smoked</td>\n",
              "      <td>0</td>\n",
              "    </tr>\n",
              "    <tr>\n",
              "      <th>2175</th>\n",
              "      <td>Female</td>\n",
              "      <td>2.0</td>\n",
              "      <td>0</td>\n",
              "      <td>0</td>\n",
              "      <td>No</td>\n",
              "      <td>children</td>\n",
              "      <td>Rural</td>\n",
              "      <td>155.14</td>\n",
              "      <td>13.7</td>\n",
              "      <td>Unknown</td>\n",
              "      <td>0</td>\n",
              "    </tr>\n",
              "    <tr>\n",
              "      <th>4092</th>\n",
              "      <td>Male</td>\n",
              "      <td>55.0</td>\n",
              "      <td>0</td>\n",
              "      <td>0</td>\n",
              "      <td>Yes</td>\n",
              "      <td>Govt_job</td>\n",
              "      <td>Urban</td>\n",
              "      <td>154.03</td>\n",
              "      <td>31.6</td>\n",
              "      <td>smokes</td>\n",
              "      <td>0</td>\n",
              "    </tr>\n",
              "    <tr>\n",
              "      <th>2372</th>\n",
              "      <td>Female</td>\n",
              "      <td>27.0</td>\n",
              "      <td>0</td>\n",
              "      <td>0</td>\n",
              "      <td>Yes</td>\n",
              "      <td>Private</td>\n",
              "      <td>Urban</td>\n",
              "      <td>161.57</td>\n",
              "      <td>25.7</td>\n",
              "      <td>smokes</td>\n",
              "      <td>0</td>\n",
              "    </tr>\n",
              "    <tr>\n",
              "      <th>2685</th>\n",
              "      <td>Male</td>\n",
              "      <td>80.0</td>\n",
              "      <td>1</td>\n",
              "      <td>0</td>\n",
              "      <td>Yes</td>\n",
              "      <td>Self-employed</td>\n",
              "      <td>Urban</td>\n",
              "      <td>178.89</td>\n",
              "      <td>27.4</td>\n",
              "      <td>Unknown</td>\n",
              "      <td>0</td>\n",
              "    </tr>\n",
              "  </tbody>\n",
              "</table>\n",
              "</div>"
            ],
            "text/plain": [
              "      gender   age  hypertension  heart_disease ever_married      work_type  \\\n",
              "3931  Female  73.0             1              0           No  Self-employed   \n",
              "2175  Female   2.0             0              0           No       children   \n",
              "4092    Male  55.0             0              0          Yes       Govt_job   \n",
              "2372  Female  27.0             0              0          Yes        Private   \n",
              "2685    Male  80.0             1              0          Yes  Self-employed   \n",
              "\n",
              "     Residence_type  avg_glucose_level   bmi   smoking_status  stroke  \n",
              "3931          Rural             198.30  54.3  formerly smoked       0  \n",
              "2175          Rural             155.14  13.7          Unknown       0  \n",
              "4092          Urban             154.03  31.6           smokes       0  \n",
              "2372          Urban             161.57  25.7           smokes       0  \n",
              "2685          Urban             178.89  27.4          Unknown       0  "
            ]
          },
          "execution_count": 34,
          "metadata": {},
          "output_type": "execute_result"
        }
      ],
      "source": [
        "prediabetic.sample(5)"
      ]
    },
    {
      "cell_type": "code",
      "execution_count": 35,
      "id": "e83da9f7",
      "metadata": {
        "colab": {
          "base_uri": "https://localhost:8080/"
        },
        "id": "e83da9f7",
        "outputId": "91b8d6f9-4a66-4f50-e1d9-be19ca545a71"
      },
      "outputs": [
        {
          "data": {
            "text/plain": [
              "gender\n",
              "Female    191\n",
              "Male      184\n",
              "Other       1\n",
              "Name: avg_glucose_level, dtype: int64"
            ]
          },
          "execution_count": 35,
          "metadata": {},
          "output_type": "execute_result"
        }
      ],
      "source": [
        "prediabetic['avg_glucose_level'].groupby(df['gender']).size()"
      ]
    },
    {
      "cell_type": "code",
      "execution_count": 36,
      "id": "04cd75cf",
      "metadata": {
        "colab": {
          "base_uri": "https://localhost:8080/",
          "height": 436
        },
        "id": "04cd75cf",
        "outputId": "102a7ee7-a4d7-4088-f5fb-d20f5c761caf"
      },
      "outputs": [
        {
          "data": {
            "image/png": "[encoded data removed]",
            "text/plain": [
              "<Figure size 1500x500 with 3 Axes>"
            ]
          },
          "metadata": {},
          "output_type": "display_data"
        }
      ],
      "source": [
        "#age distribution of the prediabetics for different genders\n",
        "\n",
        "fig, axs = plt.subplots(ncols=3, nrows=1, figsize=(15, 5))\n",
        "gender = ['Female', 'Male', 'Other']\n",
        "for i in range(len(gender)):\n",
        "    sns.histplot(prediabetic[prediabetic['gender'] == gender[i]]['age'], color='skyblue', edgecolor='black', ax=axs[i])\n",
        "    axs[i].set_xlabel('Age', fontsize=14)\n",
        "    axs[i].set_ylabel('Frequency', fontsize=14)\n",
        "    axs[i].set_title(f'Histogram of Age for {gender[i]}', fontsize=16)\n",
        "    axs[i].grid(True)\n",
        "plt.tight_layout()"
      ]
    },
    {
      "cell_type": "code",
      "execution_count": 37,
      "id": "84ff4684",
      "metadata": {
        "colab": {
          "base_uri": "https://localhost:8080/",
          "height": 80
        },
        "id": "84ff4684",
        "outputId": "6b23b969-ced4-416c-c0dc-e3667a847877"
      },
      "outputs": [
        {
          "data": {
            "text/html": [
              "<div>\n",
              "<style scoped>\n",
              "    .dataframe tbody tr th:only-of-type {\n",
              "        vertical-align: middle;\n",
              "    }\n",
              "\n",
              "    .dataframe tbody tr th {\n",
              "        vertical-align: top;\n",
              "    }\n",
              "\n",
              "    .dataframe thead th {\n",
              "        text-align: right;\n",
              "    }\n",
              "</style>\n",
              "<table border=\"1\" class=\"dataframe\">\n",
              "  <thead>\n",
              "    <tr style=\"text-align: right;\">\n",
              "      <th></th>\n",
              "      <th>gender</th>\n",
              "      <th>age</th>\n",
              "      <th>hypertension</th>\n",
              "      <th>heart_disease</th>\n",
              "      <th>ever_married</th>\n",
              "      <th>work_type</th>\n",
              "      <th>Residence_type</th>\n",
              "      <th>avg_glucose_level</th>\n",
              "      <th>bmi</th>\n",
              "      <th>smoking_status</th>\n",
              "      <th>stroke</th>\n",
              "    </tr>\n",
              "  </thead>\n",
              "  <tbody>\n",
              "    <tr>\n",
              "      <th>3116</th>\n",
              "      <td>Other</td>\n",
              "      <td>26.0</td>\n",
              "      <td>0</td>\n",
              "      <td>0</td>\n",
              "      <td>No</td>\n",
              "      <td>Private</td>\n",
              "      <td>Rural</td>\n",
              "      <td>143.33</td>\n",
              "      <td>22.4</td>\n",
              "      <td>formerly smoked</td>\n",
              "      <td>0</td>\n",
              "    </tr>\n",
              "  </tbody>\n",
              "</table>\n",
              "</div>"
            ],
            "text/plain": [
              "     gender   age  hypertension  heart_disease ever_married work_type  \\\n",
              "3116  Other  26.0             0              0           No   Private   \n",
              "\n",
              "     Residence_type  avg_glucose_level   bmi   smoking_status  stroke  \n",
              "3116          Rural             143.33  22.4  formerly smoked       0  "
            ]
          },
          "execution_count": 37,
          "metadata": {},
          "output_type": "execute_result"
        }
      ],
      "source": [
        "prediabetic[prediabetic['gender'] == 'Other']"
      ]
    },
    {
      "cell_type": "code",
      "execution_count": 38,
      "id": "395356f2",
      "metadata": {
        "colab": {
          "base_uri": "https://localhost:8080/"
        },
        "id": "395356f2",
        "outputId": "42a99b20-c8f5-4884-ca5a-f905a65cc524"
      },
      "outputs": [
        {
          "data": {
            "text/plain": [
              "(445, 11)"
            ]
          },
          "execution_count": 38,
          "metadata": {},
          "output_type": "execute_result"
        }
      ],
      "source": [
        "'''\n",
        "People who diabetic are mostly likely to have sugar levels above 199.\n",
        "The below is the data of the person who have sugar levels above 199 and are most likely to be diabetic.\n",
        "'''\n",
        "diabetic = df[df['avg_glucose_level'] > 199]\n",
        "diabetic.shape"
      ]
    },
    {
      "cell_type": "code",
      "execution_count": 39,
      "id": "8e06ed1b",
      "metadata": {
        "colab": {
          "base_uri": "https://localhost:8080/",
          "height": 206
        },
        "id": "8e06ed1b",
        "outputId": "5fd00911-8eeb-4040-d61f-dd2a0bb4c8af"
      },
      "outputs": [
        {
          "data": {
            "text/html": [
              "<div>\n",
              "<style scoped>\n",
              "    .dataframe tbody tr th:only-of-type {\n",
              "        vertical-align: middle;\n",
              "    }\n",
              "\n",
              "    .dataframe tbody tr th {\n",
              "        vertical-align: top;\n",
              "    }\n",
              "\n",
              "    .dataframe thead th {\n",
              "        text-align: right;\n",
              "    }\n",
              "</style>\n",
              "<table border=\"1\" class=\"dataframe\">\n",
              "  <thead>\n",
              "    <tr style=\"text-align: right;\">\n",
              "      <th></th>\n",
              "      <th>gender</th>\n",
              "      <th>age</th>\n",
              "      <th>hypertension</th>\n",
              "      <th>heart_disease</th>\n",
              "      <th>ever_married</th>\n",
              "      <th>work_type</th>\n",
              "      <th>Residence_type</th>\n",
              "      <th>avg_glucose_level</th>\n",
              "      <th>bmi</th>\n",
              "      <th>smoking_status</th>\n",
              "      <th>stroke</th>\n",
              "    </tr>\n",
              "  </thead>\n",
              "  <tbody>\n",
              "    <tr>\n",
              "      <th>4750</th>\n",
              "      <td>Female</td>\n",
              "      <td>70.0</td>\n",
              "      <td>0</td>\n",
              "      <td>1</td>\n",
              "      <td>Yes</td>\n",
              "      <td>Self-employed</td>\n",
              "      <td>Urban</td>\n",
              "      <td>240.69</td>\n",
              "      <td>NaN</td>\n",
              "      <td>smokes</td>\n",
              "      <td>0</td>\n",
              "    </tr>\n",
              "    <tr>\n",
              "      <th>2486</th>\n",
              "      <td>Female</td>\n",
              "      <td>52.0</td>\n",
              "      <td>0</td>\n",
              "      <td>0</td>\n",
              "      <td>Yes</td>\n",
              "      <td>Self-employed</td>\n",
              "      <td>Rural</td>\n",
              "      <td>205.00</td>\n",
              "      <td>30.1</td>\n",
              "      <td>never smoked</td>\n",
              "      <td>0</td>\n",
              "    </tr>\n",
              "    <tr>\n",
              "      <th>2569</th>\n",
              "      <td>Male</td>\n",
              "      <td>59.0</td>\n",
              "      <td>0</td>\n",
              "      <td>0</td>\n",
              "      <td>Yes</td>\n",
              "      <td>Private</td>\n",
              "      <td>Rural</td>\n",
              "      <td>203.16</td>\n",
              "      <td>43.4</td>\n",
              "      <td>Unknown</td>\n",
              "      <td>0</td>\n",
              "    </tr>\n",
              "    <tr>\n",
              "      <th>3005</th>\n",
              "      <td>Male</td>\n",
              "      <td>50.0</td>\n",
              "      <td>0</td>\n",
              "      <td>0</td>\n",
              "      <td>Yes</td>\n",
              "      <td>Govt_job</td>\n",
              "      <td>Urban</td>\n",
              "      <td>227.89</td>\n",
              "      <td>38.8</td>\n",
              "      <td>formerly smoked</td>\n",
              "      <td>0</td>\n",
              "    </tr>\n",
              "    <tr>\n",
              "      <th>222</th>\n",
              "      <td>Female</td>\n",
              "      <td>63.0</td>\n",
              "      <td>0</td>\n",
              "      <td>0</td>\n",
              "      <td>Yes</td>\n",
              "      <td>Govt_job</td>\n",
              "      <td>Rural</td>\n",
              "      <td>205.35</td>\n",
              "      <td>42.2</td>\n",
              "      <td>formerly smoked</td>\n",
              "      <td>1</td>\n",
              "    </tr>\n",
              "  </tbody>\n",
              "</table>\n",
              "</div>"
            ],
            "text/plain": [
              "      gender   age  hypertension  heart_disease ever_married      work_type  \\\n",
              "4750  Female  70.0             0              1          Yes  Self-employed   \n",
              "2486  Female  52.0             0              0          Yes  Self-employed   \n",
              "2569    Male  59.0             0              0          Yes        Private   \n",
              "3005    Male  50.0             0              0          Yes       Govt_job   \n",
              "222   Female  63.0             0              0          Yes       Govt_job   \n",
              "\n",
              "     Residence_type  avg_glucose_level   bmi   smoking_status  stroke  \n",
              "4750          Urban             240.69   NaN           smokes       0  \n",
              "2486          Rural             205.00  30.1     never smoked       0  \n",
              "2569          Rural             203.16  43.4          Unknown       0  \n",
              "3005          Urban             227.89  38.8  formerly smoked       0  \n",
              "222           Rural             205.35  42.2  formerly smoked       1  "
            ]
          },
          "execution_count": 39,
          "metadata": {},
          "output_type": "execute_result"
        }
      ],
      "source": [
        "diabetic.sample(5)"
      ]
    },
    {
      "cell_type": "code",
      "execution_count": 40,
      "id": "fe1cfd30",
      "metadata": {
        "colab": {
          "base_uri": "https://localhost:8080/",
          "height": 300
        },
        "id": "fe1cfd30",
        "outputId": "f733f70b-0626-4247-e4b0-161310d950cb"
      },
      "outputs": [
        {
          "data": {
            "text/html": [
              "<div>\n",
              "<style scoped>\n",
              "    .dataframe tbody tr th:only-of-type {\n",
              "        vertical-align: middle;\n",
              "    }\n",
              "\n",
              "    .dataframe tbody tr th {\n",
              "        vertical-align: top;\n",
              "    }\n",
              "\n",
              "    .dataframe thead th {\n",
              "        text-align: right;\n",
              "    }\n",
              "</style>\n",
              "<table border=\"1\" class=\"dataframe\">\n",
              "  <thead>\n",
              "    <tr style=\"text-align: right;\">\n",
              "      <th></th>\n",
              "      <th>age</th>\n",
              "      <th>hypertension</th>\n",
              "      <th>heart_disease</th>\n",
              "      <th>avg_glucose_level</th>\n",
              "      <th>bmi</th>\n",
              "      <th>stroke</th>\n",
              "    </tr>\n",
              "  </thead>\n",
              "  <tbody>\n",
              "    <tr>\n",
              "      <th>count</th>\n",
              "      <td>445.000000</td>\n",
              "      <td>445.000000</td>\n",
              "      <td>445.000000</td>\n",
              "      <td>445.000000</td>\n",
              "      <td>401.000000</td>\n",
              "      <td>445.000000</td>\n",
              "    </tr>\n",
              "    <tr>\n",
              "      <th>mean</th>\n",
              "      <td>61.512360</td>\n",
              "      <td>0.244944</td>\n",
              "      <td>0.170787</td>\n",
              "      <td>221.242427</td>\n",
              "      <td>33.869077</td>\n",
              "      <td>0.132584</td>\n",
              "    </tr>\n",
              "    <tr>\n",
              "      <th>std</th>\n",
              "      <td>15.232521</td>\n",
              "      <td>0.430538</td>\n",
              "      <td>0.376746</td>\n",
              "      <td>15.553497</td>\n",
              "      <td>8.003496</td>\n",
              "      <td>0.339507</td>\n",
              "    </tr>\n",
              "    <tr>\n",
              "      <th>min</th>\n",
              "      <td>1.000000</td>\n",
              "      <td>0.000000</td>\n",
              "      <td>0.000000</td>\n",
              "      <td>199.140000</td>\n",
              "      <td>14.200000</td>\n",
              "      <td>0.000000</td>\n",
              "    </tr>\n",
              "    <tr>\n",
              "      <th>25%</th>\n",
              "      <td>53.000000</td>\n",
              "      <td>0.000000</td>\n",
              "      <td>0.000000</td>\n",
              "      <td>208.060000</td>\n",
              "      <td>28.000000</td>\n",
              "      <td>0.000000</td>\n",
              "    </tr>\n",
              "    <tr>\n",
              "      <th>50%</th>\n",
              "      <td>63.000000</td>\n",
              "      <td>0.000000</td>\n",
              "      <td>0.000000</td>\n",
              "      <td>218.650000</td>\n",
              "      <td>32.500000</td>\n",
              "      <td>0.000000</td>\n",
              "    </tr>\n",
              "    <tr>\n",
              "      <th>75%</th>\n",
              "      <td>74.000000</td>\n",
              "      <td>0.000000</td>\n",
              "      <td>0.000000</td>\n",
              "      <td>231.430000</td>\n",
              "      <td>38.600000</td>\n",
              "      <td>0.000000</td>\n",
              "    </tr>\n",
              "    <tr>\n",
              "      <th>max</th>\n",
              "      <td>82.000000</td>\n",
              "      <td>1.000000</td>\n",
              "      <td>1.000000</td>\n",
              "      <td>271.740000</td>\n",
              "      <td>71.900000</td>\n",
              "      <td>1.000000</td>\n",
              "    </tr>\n",
              "  </tbody>\n",
              "</table>\n",
              "</div>"
            ],
            "text/plain": [
              "              age  hypertension  heart_disease  avg_glucose_level         bmi  \\\n",
              "count  445.000000    445.000000     445.000000         445.000000  401.000000   \n",
              "mean    61.512360      0.244944       0.170787         221.242427   33.869077   \n",
              "std     15.232521      0.430538       0.376746          15.553497    8.003496   \n",
              "min      1.000000      0.000000       0.000000         199.140000   14.200000   \n",
              "25%     53.000000      0.000000       0.000000         208.060000   28.000000   \n",
              "50%     63.000000      0.000000       0.000000         218.650000   32.500000   \n",
              "75%     74.000000      0.000000       0.000000         231.430000   38.600000   \n",
              "max     82.000000      1.000000       1.000000         271.740000   71.900000   \n",
              "\n",
              "           stroke  \n",
              "count  445.000000  \n",
              "mean     0.132584  \n",
              "std      0.339507  \n",
              "min      0.000000  \n",
              "25%      0.000000  \n",
              "50%      0.000000  \n",
              "75%      0.000000  \n",
              "max      1.000000  "
            ]
          },
          "execution_count": 40,
          "metadata": {},
          "output_type": "execute_result"
        }
      ],
      "source": [
        "diabetic.describe()"
      ]
    },
    {
      "cell_type": "code",
      "execution_count": 41,
      "id": "f75a9a8e",
      "metadata": {
        "colab": {
          "base_uri": "https://localhost:8080/"
        },
        "id": "f75a9a8e",
        "outputId": "bc938abb-df2b-4770-bc46-f96913a7ef78"
      },
      "outputs": [
        {
          "data": {
            "text/plain": [
              "gender\n",
              "Female    237\n",
              "Male      208\n",
              "Name: avg_glucose_level, dtype: int64"
            ]
          },
          "execution_count": 41,
          "metadata": {},
          "output_type": "execute_result"
        }
      ],
      "source": [
        "diabetic['avg_glucose_level'].groupby(df['gender']).size()"
      ]
    },
    {
      "cell_type": "code",
      "execution_count": 42,
      "id": "f82d4518",
      "metadata": {
        "colab": {
          "base_uri": "https://localhost:8080/",
          "height": 436
        },
        "id": "f82d4518",
        "outputId": "a6d9af0c-f357-476a-d22b-8cacbf6166bc"
      },
      "outputs": [
        {
          "data": {
            "image/png": "[encoded data removed]",
            "text/plain": [
              "<Figure size 1500x500 with 3 Axes>"
            ]
          },
          "metadata": {},
          "output_type": "display_data"
        }
      ],
      "source": [
        "#age distribution of the prediabetics for different genders\n",
        "\n",
        "fig, axs = plt.subplots(ncols=3, nrows=1, figsize=(15, 5))\n",
        "gender = ['Female', 'Male', 'Other']\n",
        "for i in range(len(gender)):\n",
        "    sns.histplot(diabetic[diabetic['gender'] == gender[i]]['age'], color='skyblue', edgecolor='black', ax=axs[i])\n",
        "    axs[i].set_xlabel('Age', fontsize=14)\n",
        "    axs[i].set_ylabel('Frequency', fontsize=14)\n",
        "    axs[i].set_title(f'Histogram of Age for {gender[i]}', fontsize=16)\n",
        "    axs[i].grid(True)\n",
        "plt.tight_layout()"
      ]
    },
    {
      "cell_type": "markdown",
      "id": "74fade45",
      "metadata": {
        "id": "74fade45"
      },
      "source": [
        "</br>"
      ]
    },
    {
      "cell_type": "markdown",
      "id": "d571669c",
      "metadata": {
        "id": "d571669c"
      },
      "source": [
        "</br>"
      ]
    },
    {
      "cell_type": "markdown",
      "id": "7395430c",
      "metadata": {
        "id": "7395430c"
      },
      "source": [
        "</br>"
      ]
    },
    {
      "cell_type": "markdown",
      "id": "6151c305",
      "metadata": {
        "id": "6151c305"
      },
      "source": [
        "</br>"
      ]
    },
    {
      "cell_type": "markdown",
      "id": "9ecc5f17",
      "metadata": {
        "id": "9ecc5f17"
      },
      "source": [
        "</br>"
      ]
    },
    {
      "cell_type": "markdown",
      "id": "3ce6eda9",
      "metadata": {
        "id": "3ce6eda9"
      },
      "source": [
        "</br>"
      ]
    },
    {
      "cell_type": "markdown",
      "id": "cf9ea140",
      "metadata": {
        "id": "cf9ea140"
      },
      "source": [
        "* **bmi**\n",
        "\n",
        "we have 201 missing values in the bmi column\n",
        "\n",
        "data is almost normally distributed but skewed due to outliers\n",
        "\n",
        "we have pretty high values of bmi that are unrealistic\n",
        "\n",
        "bmi above 60 are very rare in real life we can apply capping to these values by the method of Z-score or IQR method"
      ]
    },
    {
      "cell_type": "code",
      "execution_count": 43,
      "id": "6cb23b6a",
      "metadata": {
        "colab": {
          "base_uri": "https://localhost:8080/"
        },
        "id": "6cb23b6a",
        "outputId": "fb47bfaa-d514-4732-a042-9cb7c4123551"
      },
      "outputs": [
        {
          "name": "stdout",
          "output_type": "stream",
          "text": [
            "<class 'pandas.core.series.Series'>\n",
            "RangeIndex: 5110 entries, 0 to 5109\n",
            "Series name: bmi\n",
            "Non-Null Count  Dtype  \n",
            "--------------  -----  \n",
            "4909 non-null   float64\n",
            "dtypes: float64(1)\n",
            "memory usage: 40.0 KB\n"
          ]
        }
      ],
      "source": [
        "df.bmi.info()"
      ]
    },
    {
      "cell_type": "code",
      "execution_count": 44,
      "id": "066dc0ea",
      "metadata": {
        "colab": {
          "base_uri": "https://localhost:8080/"
        },
        "id": "066dc0ea",
        "outputId": "3e5cb964-fc33-4388-dd3c-83da5ab068ff"
      },
      "outputs": [
        {
          "data": {
            "text/plain": [
              "201"
            ]
          },
          "execution_count": 44,
          "metadata": {},
          "output_type": "execute_result"
        }
      ],
      "source": [
        "df.bmi.isnull().sum()"
      ]
    },
    {
      "cell_type": "code",
      "execution_count": 45,
      "id": "4535ea21",
      "metadata": {
        "colab": {
          "base_uri": "https://localhost:8080/"
        },
        "id": "4535ea21",
        "outputId": "e129a285-e671-4957-8eae-0331b5bee52f"
      },
      "outputs": [
        {
          "data": {
            "text/plain": [
              "count    4909.000000\n",
              "mean       28.893237\n",
              "std         7.854067\n",
              "min        10.300000\n",
              "25%        23.500000\n",
              "50%        28.100000\n",
              "75%        33.100000\n",
              "max        97.600000\n",
              "Name: bmi, dtype: float64"
            ]
          },
          "execution_count": 45,
          "metadata": {},
          "output_type": "execute_result"
        }
      ],
      "source": [
        "df.bmi.describe()"
      ]
    },
    {
      "cell_type": "code",
      "execution_count": 46,
      "id": "115f50a8",
      "metadata": {
        "colab": {
          "base_uri": "https://localhost:8080/",
          "height": 325
        },
        "id": "115f50a8",
        "outputId": "403ecc2b-1850-4e11-be59-8e19e1e3382a"
      },
      "outputs": [
        {
          "data": {
            "image/png": "[encoded data removed]",
            "text/plain": [
              "<Figure size 1000x300 with 2 Axes>"
            ]
          },
          "metadata": {},
          "output_type": "display_data"
        }
      ],
      "source": [
        "'''\n",
        "Boxplot and KDE plot for the avg_glucose_level column\n",
        "'''\n",
        "\n",
        "figure, ax = plt.subplots(ncols = 2, nrows=  1,figsize =(10,3))\n",
        "ax = ax.flatten()\n",
        "sns.boxplot(x= df.bmi, ax = ax[0])\n",
        "sns.distplot(x= df.bmi, ax= ax[1], hist= False)\n",
        "plt.tight_layout(pad=0.4, w_pad=0.5, h_pad=5.0)"
      ]
    },
    {
      "cell_type": "code",
      "execution_count": 47,
      "id": "6d096b9a",
      "metadata": {
        "colab": {
          "base_uri": "https://localhost:8080/"
        },
        "id": "6d096b9a",
        "outputId": "80882d5f-2cc5-4dad-dd66-7d5e0fc1745d"
      },
      "outputs": [
        {
          "name": "stdout",
          "output_type": "stream",
          "text": [
            "bmi upper limit : 47.5\n",
            "bmi lower limit: 9.099999999999998\n",
            "bmi IQR: 9.600000000000001\n"
          ]
        }
      ],
      "source": [
        "bmi_q3 = df['bmi'].quantile(0.75)\n",
        "bmi_q1 = df['bmi'].quantile(0.25)\n",
        "\n",
        "\n",
        "bmi_iqr = bmi_q3 - bmi_q1                   #bmi inter quartile range\n",
        "bmi_upper_limit = bmi_q3 + 1.5*bmi_iqr      #bmi upper limit from the box plot\n",
        "bmi_lower_limit = bmi_q1 - 1.5*bmi_iqr      #bmi lower limit from the box plot\n",
        "\n",
        "\n",
        "print(f\"bmi upper limit : {bmi_upper_limit}\\nbmi lower limit: {bmi_lower_limit}\\nbmi IQR: { bmi_iqr}\")"
      ]
    },
    {
      "cell_type": "markdown",
      "id": "e73bc7a0",
      "metadata": {
        "id": "e73bc7a0"
      },
      "source": [
        "</br>"
      ]
    },
    {
      "cell_type": "markdown",
      "id": "55aa365d",
      "metadata": {
        "id": "55aa365d"
      },
      "source": [
        "</br>"
      ]
    },
    {
      "cell_type": "markdown",
      "id": "b65be844",
      "metadata": {
        "id": "b65be844"
      },
      "source": [
        "</br>"
      ]
    },
    {
      "cell_type": "markdown",
      "id": "71678a79",
      "metadata": {
        "id": "71678a79"
      },
      "source": [
        "</br>"
      ]
    },
    {
      "cell_type": "markdown",
      "id": "3751e1c2",
      "metadata": {
        "id": "3751e1c2"
      },
      "source": [
        "## Multivariate EDA"
      ]
    },
    {
      "cell_type": "markdown",
      "id": "5f2419a5",
      "metadata": {
        "id": "5f2419a5"
      },
      "source": [
        "#### Columns\n",
        "* **Numerical(continuous)** - age, avg_glucose_lvl, bmi\n",
        "* **categorical** - gender, ever_married, work_type, residence_type, hypertension, heart_disease, stroke, smoking_status\n"
      ]
    },
    {
      "cell_type": "markdown",
      "id": "a1b62571",
      "metadata": {
        "id": "a1b62571"
      },
      "source": [
        "### Checking the relation of Stroke with all the columns"
      ]
    },
    {
      "cell_type": "code",
      "execution_count": 48,
      "id": "f9d2b223",
      "metadata": {
        "colab": {
          "base_uri": "https://localhost:8080/",
          "height": 143
        },
        "id": "f9d2b223",
        "outputId": "27202980-f562-4179-b522-4119cce1be04"
      },
      "outputs": [
        {
          "data": {
            "text/html": [
              "<div>\n",
              "<style scoped>\n",
              "    .dataframe tbody tr th:only-of-type {\n",
              "        vertical-align: middle;\n",
              "    }\n",
              "\n",
              "    .dataframe tbody tr th {\n",
              "        vertical-align: top;\n",
              "    }\n",
              "\n",
              "    .dataframe thead th {\n",
              "        text-align: right;\n",
              "    }\n",
              "</style>\n",
              "<table border=\"1\" class=\"dataframe\">\n",
              "  <thead>\n",
              "    <tr style=\"text-align: right;\">\n",
              "      <th>gender</th>\n",
              "      <th>Female</th>\n",
              "      <th>Male</th>\n",
              "      <th>Other</th>\n",
              "    </tr>\n",
              "    <tr>\n",
              "      <th>stroke</th>\n",
              "      <th></th>\n",
              "      <th></th>\n",
              "      <th></th>\n",
              "    </tr>\n",
              "  </thead>\n",
              "  <tbody>\n",
              "    <tr>\n",
              "      <th>0</th>\n",
              "      <td>95.290581</td>\n",
              "      <td>94.893617</td>\n",
              "      <td>100.0</td>\n",
              "    </tr>\n",
              "    <tr>\n",
              "      <th>1</th>\n",
              "      <td>4.709419</td>\n",
              "      <td>5.106383</td>\n",
              "      <td>0.0</td>\n",
              "    </tr>\n",
              "  </tbody>\n",
              "</table>\n",
              "</div>"
            ],
            "text/plain": [
              "gender     Female       Male  Other\n",
              "stroke                             \n",
              "0       95.290581  94.893617  100.0\n",
              "1        4.709419   5.106383    0.0"
            ]
          },
          "execution_count": 48,
          "metadata": {},
          "output_type": "execute_result"
        }
      ],
      "source": [
        "#percentage of people had a stroke in different genders\n",
        "pd.crosstab(df['stroke'],df['gender'], normalize= 'columns')*100"
      ]
    },
    {
      "cell_type": "code",
      "execution_count": 49,
      "id": "c6d4b479",
      "metadata": {
        "colab": {
          "base_uri": "https://localhost:8080/",
          "height": 143
        },
        "id": "c6d4b479",
        "outputId": "08836d23-4060-42f4-9701-f714798b2646"
      },
      "outputs": [
        {
          "data": {
            "text/html": [
              "<div>\n",
              "<style scoped>\n",
              "    .dataframe tbody tr th:only-of-type {\n",
              "        vertical-align: middle;\n",
              "    }\n",
              "\n",
              "    .dataframe tbody tr th {\n",
              "        vertical-align: top;\n",
              "    }\n",
              "\n",
              "    .dataframe thead th {\n",
              "        text-align: right;\n",
              "    }\n",
              "</style>\n",
              "<table border=\"1\" class=\"dataframe\">\n",
              "  <thead>\n",
              "    <tr style=\"text-align: right;\">\n",
              "      <th>gender</th>\n",
              "      <th>Female</th>\n",
              "      <th>Male</th>\n",
              "      <th>Other</th>\n",
              "    </tr>\n",
              "    <tr>\n",
              "      <th>stroke</th>\n",
              "      <th></th>\n",
              "      <th></th>\n",
              "      <th></th>\n",
              "    </tr>\n",
              "  </thead>\n",
              "  <tbody>\n",
              "    <tr>\n",
              "      <th>0</th>\n",
              "      <td>58.691627</td>\n",
              "      <td>41.287801</td>\n",
              "      <td>0.020572</td>\n",
              "    </tr>\n",
              "    <tr>\n",
              "      <th>1</th>\n",
              "      <td>56.626506</td>\n",
              "      <td>43.373494</td>\n",
              "      <td>0.000000</td>\n",
              "    </tr>\n",
              "  </tbody>\n",
              "</table>\n",
              "</div>"
            ],
            "text/plain": [
              "gender     Female       Male     Other\n",
              "stroke                                \n",
              "0       58.691627  41.287801  0.020572\n",
              "1       56.626506  43.373494  0.000000"
            ]
          },
          "execution_count": 49,
          "metadata": {},
          "output_type": "execute_result"
        }
      ],
      "source": [
        "#out of total people had a stroke the percentage of people had a stroke in different genders\n",
        "pd.crosstab(df['stroke'],df['gender'], normalize= 'index')*100"
      ]
    },
    {
      "cell_type": "markdown",
      "id": "1bb08cf5",
      "metadata": {
        "id": "1bb08cf5"
      },
      "source": [
        "**Why male has higher percentage of getting a stroke?**"
      ]
    },
    {
      "cell_type": "code",
      "execution_count": 50,
      "id": "be26eafa",
      "metadata": {
        "colab": {
          "base_uri": "https://localhost:8080/",
          "height": 143
        },
        "id": "be26eafa",
        "outputId": "918d3fd0-7cf9-4f36-c226-64a0226720b7"
      },
      "outputs": [
        {
          "data": {
            "text/html": [
              "<div>\n",
              "<style scoped>\n",
              "    .dataframe tbody tr th:only-of-type {\n",
              "        vertical-align: middle;\n",
              "    }\n",
              "\n",
              "    .dataframe tbody tr th {\n",
              "        vertical-align: top;\n",
              "    }\n",
              "\n",
              "    .dataframe thead th {\n",
              "        text-align: right;\n",
              "    }\n",
              "</style>\n",
              "<table border=\"1\" class=\"dataframe\">\n",
              "  <thead>\n",
              "    <tr style=\"text-align: right;\">\n",
              "      <th>gender</th>\n",
              "      <th>Female</th>\n",
              "      <th>Male</th>\n",
              "      <th>Other</th>\n",
              "    </tr>\n",
              "    <tr>\n",
              "      <th>heart_disease</th>\n",
              "      <th></th>\n",
              "      <th></th>\n",
              "      <th></th>\n",
              "    </tr>\n",
              "  </thead>\n",
              "  <tbody>\n",
              "    <tr>\n",
              "      <th>0</th>\n",
              "      <td>96.225785</td>\n",
              "      <td>92.293144</td>\n",
              "      <td>100.0</td>\n",
              "    </tr>\n",
              "    <tr>\n",
              "      <th>1</th>\n",
              "      <td>3.774215</td>\n",
              "      <td>7.706856</td>\n",
              "      <td>0.0</td>\n",
              "    </tr>\n",
              "  </tbody>\n",
              "</table>\n",
              "</div>"
            ],
            "text/plain": [
              "gender            Female       Male  Other\n",
              "heart_disease                             \n",
              "0              96.225785  92.293144  100.0\n",
              "1               3.774215   7.706856    0.0"
            ]
          },
          "execution_count": 50,
          "metadata": {},
          "output_type": "execute_result"
        }
      ],
      "source": [
        "#checking the gender and heart disease distribution\n",
        "pd.crosstab(df['heart_disease'],df['gender'], normalize= 'columns')*100"
      ]
    },
    {
      "cell_type": "code",
      "execution_count": 51,
      "id": "47ad29dc",
      "metadata": {
        "colab": {
          "base_uri": "https://localhost:8080/",
          "height": 143
        },
        "id": "47ad29dc",
        "outputId": "24f842ff-93d3-4b18-8377-2b4fbcbfe29c"
      },
      "outputs": [
        {
          "data": {
            "text/html": [
              "<div>\n",
              "<style scoped>\n",
              "    .dataframe tbody tr th:only-of-type {\n",
              "        vertical-align: middle;\n",
              "    }\n",
              "\n",
              "    .dataframe tbody tr th {\n",
              "        vertical-align: top;\n",
              "    }\n",
              "\n",
              "    .dataframe thead th {\n",
              "        text-align: right;\n",
              "    }\n",
              "</style>\n",
              "<table border=\"1\" class=\"dataframe\">\n",
              "  <thead>\n",
              "    <tr style=\"text-align: right;\">\n",
              "      <th>gender</th>\n",
              "      <th>Female</th>\n",
              "      <th>Male</th>\n",
              "      <th>Other</th>\n",
              "    </tr>\n",
              "    <tr>\n",
              "      <th>hypertension</th>\n",
              "      <th></th>\n",
              "      <th></th>\n",
              "      <th></th>\n",
              "    </tr>\n",
              "  </thead>\n",
              "  <tbody>\n",
              "    <tr>\n",
              "      <th>0</th>\n",
              "      <td>90.781563</td>\n",
              "      <td>89.503546</td>\n",
              "      <td>100.0</td>\n",
              "    </tr>\n",
              "    <tr>\n",
              "      <th>1</th>\n",
              "      <td>9.218437</td>\n",
              "      <td>10.496454</td>\n",
              "      <td>0.0</td>\n",
              "    </tr>\n",
              "  </tbody>\n",
              "</table>\n",
              "</div>"
            ],
            "text/plain": [
              "gender           Female       Male  Other\n",
              "hypertension                             \n",
              "0             90.781563  89.503546  100.0\n",
              "1              9.218437  10.496454    0.0"
            ]
          },
          "execution_count": 51,
          "metadata": {},
          "output_type": "execute_result"
        }
      ],
      "source": [
        "#checking the gender and hypertension distribution\n",
        "pd.crosstab(df['hypertension'],df['gender'], normalize= 'columns')*100"
      ]
    },
    {
      "cell_type": "code",
      "execution_count": 52,
      "id": "68abf984",
      "metadata": {
        "colab": {
          "base_uri": "https://localhost:8080/",
          "height": 174
        },
        "id": "68abf984",
        "outputId": "0a0b86ce-26aa-4877-84c3-82505c328149"
      },
      "outputs": [
        {
          "data": {
            "text/html": [
              "<div>\n",
              "<style scoped>\n",
              "    .dataframe tbody tr th:only-of-type {\n",
              "        vertical-align: middle;\n",
              "    }\n",
              "\n",
              "    .dataframe tbody tr th {\n",
              "        vertical-align: top;\n",
              "    }\n",
              "\n",
              "    .dataframe thead th {\n",
              "        text-align: right;\n",
              "    }\n",
              "</style>\n",
              "<table border=\"1\" class=\"dataframe\">\n",
              "  <thead>\n",
              "    <tr style=\"text-align: right;\">\n",
              "      <th>work_type</th>\n",
              "      <th>Govt_job</th>\n",
              "      <th>Never_worked</th>\n",
              "      <th>Private</th>\n",
              "      <th>Self-employed</th>\n",
              "      <th>children</th>\n",
              "    </tr>\n",
              "    <tr>\n",
              "      <th>gender</th>\n",
              "      <th></th>\n",
              "      <th></th>\n",
              "      <th></th>\n",
              "      <th></th>\n",
              "      <th></th>\n",
              "    </tr>\n",
              "  </thead>\n",
              "  <tbody>\n",
              "    <tr>\n",
              "      <th>Female</th>\n",
              "      <td>60.730594</td>\n",
              "      <td>50.0</td>\n",
              "      <td>59.965812</td>\n",
              "      <td>61.538462</td>\n",
              "      <td>47.452693</td>\n",
              "    </tr>\n",
              "    <tr>\n",
              "      <th>Male</th>\n",
              "      <td>39.269406</td>\n",
              "      <td>50.0</td>\n",
              "      <td>40.000000</td>\n",
              "      <td>38.461538</td>\n",
              "      <td>52.547307</td>\n",
              "    </tr>\n",
              "    <tr>\n",
              "      <th>Other</th>\n",
              "      <td>0.000000</td>\n",
              "      <td>0.0</td>\n",
              "      <td>0.034188</td>\n",
              "      <td>0.000000</td>\n",
              "      <td>0.000000</td>\n",
              "    </tr>\n",
              "  </tbody>\n",
              "</table>\n",
              "</div>"
            ],
            "text/plain": [
              "work_type   Govt_job  Never_worked    Private  Self-employed   children\n",
              "gender                                                                 \n",
              "Female     60.730594          50.0  59.965812      61.538462  47.452693\n",
              "Male       39.269406          50.0  40.000000      38.461538  52.547307\n",
              "Other       0.000000           0.0   0.034188       0.000000   0.000000"
            ]
          },
          "execution_count": 52,
          "metadata": {},
          "output_type": "execute_result"
        }
      ],
      "source": [
        "pd.crosstab(df['gender'], df['work_type'], normalize= 'columns')*100"
      ]
    },
    {
      "cell_type": "markdown",
      "id": "08a95257",
      "metadata": {
        "id": "08a95257"
      },
      "source": [
        "**So we can see that more males have hypertension which may be leading to them having a stroke**"
      ]
    },
    {
      "cell_type": "code",
      "execution_count": 53,
      "id": "6c1c8b0e",
      "metadata": {
        "colab": {
          "base_uri": "https://localhost:8080/",
          "height": 143
        },
        "id": "6c1c8b0e",
        "outputId": "326acae1-4086-4d44-fc2a-16c14d0546ea"
      },
      "outputs": [
        {
          "data": {
            "text/html": [
              "<div>\n",
              "<style scoped>\n",
              "    .dataframe tbody tr th:only-of-type {\n",
              "        vertical-align: middle;\n",
              "    }\n",
              "\n",
              "    .dataframe tbody tr th {\n",
              "        vertical-align: top;\n",
              "    }\n",
              "\n",
              "    .dataframe thead th {\n",
              "        text-align: right;\n",
              "    }\n",
              "</style>\n",
              "<table border=\"1\" class=\"dataframe\">\n",
              "  <thead>\n",
              "    <tr style=\"text-align: right;\">\n",
              "      <th>heart_disease</th>\n",
              "      <th>0</th>\n",
              "      <th>1</th>\n",
              "    </tr>\n",
              "    <tr>\n",
              "      <th>stroke</th>\n",
              "      <th></th>\n",
              "      <th></th>\n",
              "    </tr>\n",
              "  </thead>\n",
              "  <tbody>\n",
              "    <tr>\n",
              "      <th>0</th>\n",
              "      <td>95.821266</td>\n",
              "      <td>82.971014</td>\n",
              "    </tr>\n",
              "    <tr>\n",
              "      <th>1</th>\n",
              "      <td>4.178734</td>\n",
              "      <td>17.028986</td>\n",
              "    </tr>\n",
              "  </tbody>\n",
              "</table>\n",
              "</div>"
            ],
            "text/plain": [
              "heart_disease          0          1\n",
              "stroke                             \n",
              "0              95.821266  82.971014\n",
              "1               4.178734  17.028986"
            ]
          },
          "execution_count": 53,
          "metadata": {},
          "output_type": "execute_result"
        }
      ],
      "source": [
        "#percentage of people having a stroke on the basis of whether has a heart disease or not\n",
        "pd.crosstab(df['stroke'],df.heart_disease, normalize= 'columns')*100"
      ]
    },
    {
      "cell_type": "code",
      "execution_count": 54,
      "id": "28a1a822",
      "metadata": {
        "colab": {
          "base_uri": "https://localhost:8080/",
          "height": 143
        },
        "id": "28a1a822",
        "outputId": "ec00768c-e65c-44f7-f781-c6222dd293cc"
      },
      "outputs": [
        {
          "data": {
            "text/html": [
              "<div>\n",
              "<style scoped>\n",
              "    .dataframe tbody tr th:only-of-type {\n",
              "        vertical-align: middle;\n",
              "    }\n",
              "\n",
              "    .dataframe tbody tr th {\n",
              "        vertical-align: top;\n",
              "    }\n",
              "\n",
              "    .dataframe thead th {\n",
              "        text-align: right;\n",
              "    }\n",
              "</style>\n",
              "<table border=\"1\" class=\"dataframe\">\n",
              "  <thead>\n",
              "    <tr style=\"text-align: right;\">\n",
              "      <th>hypertension</th>\n",
              "      <th>0</th>\n",
              "      <th>1</th>\n",
              "    </tr>\n",
              "    <tr>\n",
              "      <th>stroke</th>\n",
              "      <th></th>\n",
              "      <th></th>\n",
              "    </tr>\n",
              "  </thead>\n",
              "  <tbody>\n",
              "    <tr>\n",
              "      <th>0</th>\n",
              "      <td>96.03209</td>\n",
              "      <td>86.746988</td>\n",
              "    </tr>\n",
              "    <tr>\n",
              "      <th>1</th>\n",
              "      <td>3.96791</td>\n",
              "      <td>13.253012</td>\n",
              "    </tr>\n",
              "  </tbody>\n",
              "</table>\n",
              "</div>"
            ],
            "text/plain": [
              "hypertension         0          1\n",
              "stroke                           \n",
              "0             96.03209  86.746988\n",
              "1              3.96791  13.253012"
            ]
          },
          "execution_count": 54,
          "metadata": {},
          "output_type": "execute_result"
        }
      ],
      "source": [
        "#percentage of people having a stroke on the basis of whether they has hypertension or not\n",
        "pd.crosstab(df['stroke'], df.hypertension, normalize= 'columns')*100"
      ]
    },
    {
      "cell_type": "code",
      "execution_count": 55,
      "id": "a8525c36",
      "metadata": {
        "colab": {
          "base_uri": "https://localhost:8080/",
          "height": 143
        },
        "id": "a8525c36",
        "outputId": "add7c750-ad17-4da4-a194-5d8444e583cc"
      },
      "outputs": [
        {
          "data": {
            "text/html": [
              "<div>\n",
              "<style scoped>\n",
              "    .dataframe tbody tr th:only-of-type {\n",
              "        vertical-align: middle;\n",
              "    }\n",
              "\n",
              "    .dataframe tbody tr th {\n",
              "        vertical-align: top;\n",
              "    }\n",
              "\n",
              "    .dataframe thead th {\n",
              "        text-align: right;\n",
              "    }\n",
              "</style>\n",
              "<table border=\"1\" class=\"dataframe\">\n",
              "  <thead>\n",
              "    <tr style=\"text-align: right;\">\n",
              "      <th>work_type</th>\n",
              "      <th>Govt_job</th>\n",
              "      <th>Never_worked</th>\n",
              "      <th>Private</th>\n",
              "      <th>Self-employed</th>\n",
              "      <th>children</th>\n",
              "    </tr>\n",
              "    <tr>\n",
              "      <th>stroke</th>\n",
              "      <th></th>\n",
              "      <th></th>\n",
              "      <th></th>\n",
              "      <th></th>\n",
              "      <th></th>\n",
              "    </tr>\n",
              "  </thead>\n",
              "  <tbody>\n",
              "    <tr>\n",
              "      <th>0</th>\n",
              "      <td>94.977169</td>\n",
              "      <td>100.0</td>\n",
              "      <td>94.905983</td>\n",
              "      <td>92.063492</td>\n",
              "      <td>99.708879</td>\n",
              "    </tr>\n",
              "    <tr>\n",
              "      <th>1</th>\n",
              "      <td>5.022831</td>\n",
              "      <td>0.0</td>\n",
              "      <td>5.094017</td>\n",
              "      <td>7.936508</td>\n",
              "      <td>0.291121</td>\n",
              "    </tr>\n",
              "  </tbody>\n",
              "</table>\n",
              "</div>"
            ],
            "text/plain": [
              "work_type   Govt_job  Never_worked    Private  Self-employed   children\n",
              "stroke                                                                 \n",
              "0          94.977169         100.0  94.905983      92.063492  99.708879\n",
              "1           5.022831           0.0   5.094017       7.936508   0.291121"
            ]
          },
          "execution_count": 55,
          "metadata": {},
          "output_type": "execute_result"
        }
      ],
      "source": [
        "#percentage of people having a heart stroke based on their work type\n",
        "pd.crosstab(df['stroke'], df.work_type, normalize= 'columns')*100"
      ]
    },
    {
      "cell_type": "code",
      "execution_count": 56,
      "id": "a234f030",
      "metadata": {
        "colab": {
          "base_uri": "https://localhost:8080/",
          "height": 143
        },
        "id": "a234f030",
        "outputId": "0aef0245-d98c-451f-941f-060193241a1e"
      },
      "outputs": [
        {
          "data": {
            "text/html": [
              "<div>\n",
              "<style scoped>\n",
              "    .dataframe tbody tr th:only-of-type {\n",
              "        vertical-align: middle;\n",
              "    }\n",
              "\n",
              "    .dataframe tbody tr th {\n",
              "        vertical-align: top;\n",
              "    }\n",
              "\n",
              "    .dataframe thead th {\n",
              "        text-align: right;\n",
              "    }\n",
              "</style>\n",
              "<table border=\"1\" class=\"dataframe\">\n",
              "  <thead>\n",
              "    <tr style=\"text-align: right;\">\n",
              "      <th>Residence_type</th>\n",
              "      <th>Rural</th>\n",
              "      <th>Urban</th>\n",
              "    </tr>\n",
              "    <tr>\n",
              "      <th>stroke</th>\n",
              "      <th></th>\n",
              "      <th></th>\n",
              "    </tr>\n",
              "  </thead>\n",
              "  <tbody>\n",
              "    <tr>\n",
              "      <th>0</th>\n",
              "      <td>95.465394</td>\n",
              "      <td>94.799692</td>\n",
              "    </tr>\n",
              "    <tr>\n",
              "      <th>1</th>\n",
              "      <td>4.534606</td>\n",
              "      <td>5.200308</td>\n",
              "    </tr>\n",
              "  </tbody>\n",
              "</table>\n",
              "</div>"
            ],
            "text/plain": [
              "Residence_type      Rural      Urban\n",
              "stroke                              \n",
              "0               95.465394  94.799692\n",
              "1                4.534606   5.200308"
            ]
          },
          "execution_count": 56,
          "metadata": {},
          "output_type": "execute_result"
        }
      ],
      "source": [
        "#percentage of people having a heart stroke based on their residence type\n",
        "pd.crosstab(df['stroke'], df.Residence_type, normalize= 'columns')*100"
      ]
    },
    {
      "cell_type": "code",
      "execution_count": 57,
      "id": "aa689f4e",
      "metadata": {
        "colab": {
          "base_uri": "https://localhost:8080/",
          "height": 143
        },
        "id": "aa689f4e",
        "outputId": "83e6cbf0-3247-412a-f2fc-be77955f54d0"
      },
      "outputs": [
        {
          "data": {
            "text/html": [
              "<div>\n",
              "<style scoped>\n",
              "    .dataframe tbody tr th:only-of-type {\n",
              "        vertical-align: middle;\n",
              "    }\n",
              "\n",
              "    .dataframe tbody tr th {\n",
              "        vertical-align: top;\n",
              "    }\n",
              "\n",
              "    .dataframe thead th {\n",
              "        text-align: right;\n",
              "    }\n",
              "</style>\n",
              "<table border=\"1\" class=\"dataframe\">\n",
              "  <thead>\n",
              "    <tr style=\"text-align: right;\">\n",
              "      <th>smoking_status</th>\n",
              "      <th>Unknown</th>\n",
              "      <th>formerly smoked</th>\n",
              "      <th>never smoked</th>\n",
              "      <th>smokes</th>\n",
              "    </tr>\n",
              "    <tr>\n",
              "      <th>stroke</th>\n",
              "      <th></th>\n",
              "      <th></th>\n",
              "      <th></th>\n",
              "      <th></th>\n",
              "    </tr>\n",
              "  </thead>\n",
              "  <tbody>\n",
              "    <tr>\n",
              "      <th>0</th>\n",
              "      <td>96.955959</td>\n",
              "      <td>92.090395</td>\n",
              "      <td>95.243129</td>\n",
              "      <td>94.676806</td>\n",
              "    </tr>\n",
              "    <tr>\n",
              "      <th>1</th>\n",
              "      <td>3.044041</td>\n",
              "      <td>7.909605</td>\n",
              "      <td>4.756871</td>\n",
              "      <td>5.323194</td>\n",
              "    </tr>\n",
              "  </tbody>\n",
              "</table>\n",
              "</div>"
            ],
            "text/plain": [
              "smoking_status    Unknown  formerly smoked  never smoked     smokes\n",
              "stroke                                                             \n",
              "0               96.955959        92.090395     95.243129  94.676806\n",
              "1                3.044041         7.909605      4.756871   5.323194"
            ]
          },
          "execution_count": 57,
          "metadata": {},
          "output_type": "execute_result"
        }
      ],
      "source": [
        "#percentage of people having a heart stroke based on their smoking_status\n",
        "pd.crosstab(df['stroke'], df.smoking_status, normalize= 'columns')*100"
      ]
    },
    {
      "cell_type": "code",
      "execution_count": 58,
      "id": "2b5c5beb",
      "metadata": {
        "colab": {
          "base_uri": "https://localhost:8080/",
          "height": 368
        },
        "id": "2b5c5beb",
        "outputId": "efb155ca-ea42-43d0-85b1-ed2b56736158"
      },
      "outputs": [
        {
          "data": {
            "image/png": "[encoded data removed]",
            "text/plain": [
              "<Figure size 500x400 with 1 Axes>"
            ]
          },
          "metadata": {},
          "output_type": "display_data"
        }
      ],
      "source": [
        "#checking which age section has more chance of getting a stroke\n",
        "plt.figure(figsize= (5,4))\n",
        "\n",
        "df[df['stroke']==1]['age'].plot(kind= 'kde', label= 'had a stroke')\n",
        "df[df['stroke']==0]['age'].plot(kind= 'kde', label= 'didn\\'t had a stroke')\n",
        "\n",
        "plt.legend()\n",
        "plt.show()"
      ]
    },
    {
      "cell_type": "markdown",
      "id": "536a07a5",
      "metadata": {
        "id": "536a07a5"
      },
      "source": [
        "**The probability of having a stroke for age greater than 50 is more than compared to people having age less than 50**"
      ]
    },
    {
      "cell_type": "code",
      "execution_count": 59,
      "id": "1bfb9616",
      "metadata": {
        "colab": {
          "base_uri": "https://localhost:8080/",
          "height": 368
        },
        "id": "1bfb9616",
        "outputId": "6091ba96-3e1c-4c5f-b8b1-10b27fc91b02"
      },
      "outputs": [
        {
          "data": {
            "image/png": "[encoded data removed]",
            "text/plain": [
              "<Figure size 500x400 with 1 Axes>"
            ]
          },
          "metadata": {},
          "output_type": "display_data"
        }
      ],
      "source": [
        "#checking which bmi section has more chance of getting a stroke\n",
        "plt.figure(figsize= (5,4))\n",
        "\n",
        "df[df['stroke']==1]['bmi'].plot(kind= 'kde', label= 'had a stroke')\n",
        "df[df['stroke']==0]['bmi'].plot(kind= 'kde', label= 'didn\\'t had a stroke')\n",
        "\n",
        "plt.legend()\n",
        "plt.show()"
      ]
    },
    {
      "cell_type": "markdown",
      "id": "4b40067d",
      "metadata": {
        "id": "4b40067d"
      },
      "source": [
        "**Clearly it is visible that people having bmi in the range 10 to 21/22(approx.) has less probability of getting a stroke**"
      ]
    },
    {
      "cell_type": "markdown",
      "id": "4c3f490c",
      "metadata": {
        "id": "4c3f490c"
      },
      "source": [
        "### Correlation Matrix/ Heat Map"
      ]
    },
    {
      "cell_type": "code",
      "execution_count": 60,
      "id": "cc44f6ea",
      "metadata": {
        "colab": {
          "base_uri": "https://localhost:8080/",
          "height": 563
        },
        "id": "cc44f6ea",
        "outputId": "34e92aa9-5c8d-40d3-969a-567543df2659",
        "scrolled": false
      },
      "outputs": [
        {
          "data": {
            "image/png": "[encoded data removed]",
            "text/plain": [
              "<Figure size 600x500 with 2 Axes>"
            ]
          },
          "metadata": {},
          "output_type": "display_data"
        }
      ],
      "source": [
        "plt.figure(figsize= (6,5))\n",
        "sns.heatmap(num_col.corr(), annot= True, linewidths= 0.5)\n",
        "plt.show()"
      ]
    },
    {
      "cell_type": "markdown",
      "id": "b19e8157",
      "metadata": {
        "id": "b19e8157"
      },
      "source": [
        "### Insights drawn from correlation matrix\n",
        "**From the correlation matrix it is visible that none of the variables are very strongly positively correlated and there are no negatively correlated values.**"
      ]
    },
    {
      "cell_type": "markdown",
      "id": "4be7e84c",
      "metadata": {
        "id": "4be7e84c"
      },
      "source": [
        "</br>"
      ]
    },
    {
      "cell_type": "markdown",
      "id": "aac3f13e",
      "metadata": {
        "id": "aac3f13e"
      },
      "source": [
        "</br>"
      ]
    },
    {
      "cell_type": "markdown",
      "id": "7c084d26",
      "metadata": {
        "id": "7c084d26"
      },
      "source": [
        "</br>"
      ]
    },
    {
      "cell_type": "markdown",
      "id": "69c03964",
      "metadata": {
        "id": "69c03964"
      },
      "source": [
        "* **Dropping the 1 record where gender was Other**"
      ]
    },
    {
      "cell_type": "code",
      "execution_count": 61,
      "id": "1fed61f5",
      "metadata": {
        "colab": {
          "base_uri": "https://localhost:8080/"
        },
        "id": "1fed61f5",
        "outputId": "8ade47cb-43a7-4307-c447-0df6299678ac"
      },
      "outputs": [
        {
          "data": {
            "text/plain": [
              "array(['Male', 'Female', 'Other'], dtype=object)"
            ]
          },
          "execution_count": 61,
          "metadata": {},
          "output_type": "execute_result"
        }
      ],
      "source": [
        "df.gender.unique()"
      ]
    },
    {
      "cell_type": "code",
      "execution_count": 62,
      "id": "7bcb5306",
      "metadata": {
        "colab": {
          "base_uri": "https://localhost:8080/"
        },
        "id": "7bcb5306",
        "outputId": "69489ebf-d0db-47a2-a1d2-42fb9cbf2c12",
        "scrolled": false
      },
      "outputs": [
        {
          "data": {
            "text/plain": [
              "array(['Male', 'Female'], dtype=object)"
            ]
          },
          "execution_count": 62,
          "metadata": {},
          "output_type": "execute_result"
        }
      ],
      "source": [
        "df[df['gender']!= 'Other']['gender'].unique()"
      ]
    },
    {
      "cell_type": "code",
      "execution_count": 63,
      "id": "5961a865",
      "metadata": {
        "id": "5961a865"
      },
      "outputs": [],
      "source": [
        "df = df[df['gender']!= 'Other']"
      ]
    },
    {
      "cell_type": "code",
      "execution_count": 64,
      "id": "8ed32d45",
      "metadata": {
        "id": "8ed32d45"
      },
      "outputs": [],
      "source": [
        "df.reset_index(drop= True, inplace= True)"
      ]
    },
    {
      "cell_type": "code",
      "execution_count": 65,
      "id": "4376625c",
      "metadata": {
        "colab": {
          "base_uri": "https://localhost:8080/",
          "height": 206
        },
        "id": "4376625c",
        "outputId": "7fe63073-b7f3-4d51-ec16-6a3fa9eff9ce"
      },
      "outputs": [
        {
          "data": {
            "text/html": [
              "<div>\n",
              "<style scoped>\n",
              "    .dataframe tbody tr th:only-of-type {\n",
              "        vertical-align: middle;\n",
              "    }\n",
              "\n",
              "    .dataframe tbody tr th {\n",
              "        vertical-align: top;\n",
              "    }\n",
              "\n",
              "    .dataframe thead th {\n",
              "        text-align: right;\n",
              "    }\n",
              "</style>\n",
              "<table border=\"1\" class=\"dataframe\">\n",
              "  <thead>\n",
              "    <tr style=\"text-align: right;\">\n",
              "      <th></th>\n",
              "      <th>gender</th>\n",
              "      <th>age</th>\n",
              "      <th>hypertension</th>\n",
              "      <th>heart_disease</th>\n",
              "      <th>ever_married</th>\n",
              "      <th>work_type</th>\n",
              "      <th>Residence_type</th>\n",
              "      <th>avg_glucose_level</th>\n",
              "      <th>bmi</th>\n",
              "      <th>smoking_status</th>\n",
              "      <th>stroke</th>\n",
              "    </tr>\n",
              "  </thead>\n",
              "  <tbody>\n",
              "    <tr>\n",
              "      <th>0</th>\n",
              "      <td>Male</td>\n",
              "      <td>67.0</td>\n",
              "      <td>0</td>\n",
              "      <td>1</td>\n",
              "      <td>Yes</td>\n",
              "      <td>Private</td>\n",
              "      <td>Urban</td>\n",
              "      <td>228.69</td>\n",
              "      <td>36.6</td>\n",
              "      <td>formerly smoked</td>\n",
              "      <td>1</td>\n",
              "    </tr>\n",
              "    <tr>\n",
              "      <th>1</th>\n",
              "      <td>Female</td>\n",
              "      <td>61.0</td>\n",
              "      <td>0</td>\n",
              "      <td>0</td>\n",
              "      <td>Yes</td>\n",
              "      <td>Self-employed</td>\n",
              "      <td>Rural</td>\n",
              "      <td>202.21</td>\n",
              "      <td>NaN</td>\n",
              "      <td>never smoked</td>\n",
              "      <td>1</td>\n",
              "    </tr>\n",
              "    <tr>\n",
              "      <th>2</th>\n",
              "      <td>Male</td>\n",
              "      <td>80.0</td>\n",
              "      <td>0</td>\n",
              "      <td>1</td>\n",
              "      <td>Yes</td>\n",
              "      <td>Private</td>\n",
              "      <td>Rural</td>\n",
              "      <td>105.92</td>\n",
              "      <td>32.5</td>\n",
              "      <td>never smoked</td>\n",
              "      <td>1</td>\n",
              "    </tr>\n",
              "    <tr>\n",
              "      <th>3</th>\n",
              "      <td>Female</td>\n",
              "      <td>49.0</td>\n",
              "      <td>0</td>\n",
              "      <td>0</td>\n",
              "      <td>Yes</td>\n",
              "      <td>Private</td>\n",
              "      <td>Urban</td>\n",
              "      <td>171.23</td>\n",
              "      <td>34.4</td>\n",
              "      <td>smokes</td>\n",
              "      <td>1</td>\n",
              "    </tr>\n",
              "    <tr>\n",
              "      <th>4</th>\n",
              "      <td>Female</td>\n",
              "      <td>79.0</td>\n",
              "      <td>1</td>\n",
              "      <td>0</td>\n",
              "      <td>Yes</td>\n",
              "      <td>Self-employed</td>\n",
              "      <td>Rural</td>\n",
              "      <td>174.12</td>\n",
              "      <td>24.0</td>\n",
              "      <td>never smoked</td>\n",
              "      <td>1</td>\n",
              "    </tr>\n",
              "  </tbody>\n",
              "</table>\n",
              "</div>"
            ],
            "text/plain": [
              "   gender   age  hypertension  heart_disease ever_married      work_type  \\\n",
              "0    Male  67.0             0              1          Yes        Private   \n",
              "1  Female  61.0             0              0          Yes  Self-employed   \n",
              "2    Male  80.0             0              1          Yes        Private   \n",
              "3  Female  49.0             0              0          Yes        Private   \n",
              "4  Female  79.0             1              0          Yes  Self-employed   \n",
              "\n",
              "  Residence_type  avg_glucose_level   bmi   smoking_status  stroke  \n",
              "0          Urban             228.69  36.6  formerly smoked       1  \n",
              "1          Rural             202.21   NaN     never smoked       1  \n",
              "2          Rural             105.92  32.5     never smoked       1  \n",
              "3          Urban             171.23  34.4           smokes       1  \n",
              "4          Rural             174.12  24.0     never smoked       1  "
            ]
          },
          "execution_count": 65,
          "metadata": {},
          "output_type": "execute_result"
        }
      ],
      "source": [
        "df.head()"
      ]
    },
    {
      "cell_type": "code",
      "execution_count": 66,
      "id": "3fec562f",
      "metadata": {
        "colab": {
          "base_uri": "https://localhost:8080/"
        },
        "id": "3fec562f",
        "outputId": "14e51869-2182-4a90-df95-f8d312f7c6b2"
      },
      "outputs": [
        {
          "data": {
            "text/plain": [
              "array(['Male', 'Female'], dtype=object)"
            ]
          },
          "execution_count": 66,
          "metadata": {},
          "output_type": "execute_result"
        }
      ],
      "source": [
        "df['gender'].unique()"
      ]
    },
    {
      "cell_type": "markdown",
      "id": "1e5eebb3",
      "metadata": {
        "id": "1e5eebb3"
      },
      "source": [
        "</br>"
      ]
    },
    {
      "cell_type": "code",
      "execution_count": 67,
      "id": "bf5852f2",
      "metadata": {},
      "outputs": [],
      "source": [
        "from sklearn.model_selection import train_test_split"
      ]
    },
    {
      "cell_type": "code",
      "execution_count": 68,
      "id": "da292204",
      "metadata": {
        "id": "da292204"
      },
      "outputs": [],
      "source": [
        "X_train, X_test, y_train, y_test = train_test_split(df.drop(columns=['stroke']),df['stroke'],\n",
        "                                                    test_size= 0.25,\n",
        "                                                    stratify= df['stroke'],\n",
        "                                                    shuffle= True,\n",
        "                                                    random_state= 42)"
      ]
    },
    {
      "cell_type": "code",
      "execution_count": 69,
      "id": "33a11b8b",
      "metadata": {
        "colab": {
          "base_uri": "https://localhost:8080/",
          "height": 226
        },
        "id": "33a11b8b",
        "outputId": "a30f6144-8548-43e4-e90d-060cc729b09d"
      },
      "outputs": [
        {
          "data": {
            "text/html": [
              "<div>\n",
              "<style scoped>\n",
              "    .dataframe tbody tr th:only-of-type {\n",
              "        vertical-align: middle;\n",
              "    }\n",
              "\n",
              "    .dataframe tbody tr th {\n",
              "        vertical-align: top;\n",
              "    }\n",
              "\n",
              "    .dataframe thead th {\n",
              "        text-align: right;\n",
              "    }\n",
              "</style>\n",
              "<table border=\"1\" class=\"dataframe\">\n",
              "  <thead>\n",
              "    <tr style=\"text-align: right;\">\n",
              "      <th></th>\n",
              "      <th>gender</th>\n",
              "      <th>age</th>\n",
              "      <th>hypertension</th>\n",
              "      <th>heart_disease</th>\n",
              "      <th>ever_married</th>\n",
              "      <th>work_type</th>\n",
              "      <th>Residence_type</th>\n",
              "      <th>avg_glucose_level</th>\n",
              "      <th>bmi</th>\n",
              "      <th>smoking_status</th>\n",
              "    </tr>\n",
              "  </thead>\n",
              "  <tbody>\n",
              "    <tr>\n",
              "      <th>3586</th>\n",
              "      <td>Female</td>\n",
              "      <td>72.00</td>\n",
              "      <td>1</td>\n",
              "      <td>1</td>\n",
              "      <td>Yes</td>\n",
              "      <td>Private</td>\n",
              "      <td>Urban</td>\n",
              "      <td>198.32</td>\n",
              "      <td>31.3</td>\n",
              "      <td>formerly smoked</td>\n",
              "    </tr>\n",
              "    <tr>\n",
              "      <th>1470</th>\n",
              "      <td>Male</td>\n",
              "      <td>18.00</td>\n",
              "      <td>0</td>\n",
              "      <td>0</td>\n",
              "      <td>No</td>\n",
              "      <td>Private</td>\n",
              "      <td>Urban</td>\n",
              "      <td>83.02</td>\n",
              "      <td>40.4</td>\n",
              "      <td>Unknown</td>\n",
              "    </tr>\n",
              "    <tr>\n",
              "      <th>4431</th>\n",
              "      <td>Female</td>\n",
              "      <td>13.00</td>\n",
              "      <td>0</td>\n",
              "      <td>0</td>\n",
              "      <td>No</td>\n",
              "      <td>children</td>\n",
              "      <td>Rural</td>\n",
              "      <td>146.10</td>\n",
              "      <td>22.8</td>\n",
              "      <td>never smoked</td>\n",
              "    </tr>\n",
              "    <tr>\n",
              "      <th>2397</th>\n",
              "      <td>Male</td>\n",
              "      <td>1.64</td>\n",
              "      <td>0</td>\n",
              "      <td>0</td>\n",
              "      <td>No</td>\n",
              "      <td>children</td>\n",
              "      <td>Urban</td>\n",
              "      <td>115.12</td>\n",
              "      <td>21.1</td>\n",
              "      <td>Unknown</td>\n",
              "    </tr>\n",
              "    <tr>\n",
              "      <th>717</th>\n",
              "      <td>Female</td>\n",
              "      <td>13.00</td>\n",
              "      <td>0</td>\n",
              "      <td>0</td>\n",
              "      <td>No</td>\n",
              "      <td>children</td>\n",
              "      <td>Rural</td>\n",
              "      <td>63.26</td>\n",
              "      <td>19.5</td>\n",
              "      <td>Unknown</td>\n",
              "    </tr>\n",
              "  </tbody>\n",
              "</table>\n",
              "</div>"
            ],
            "text/plain": [
              "      gender    age  hypertension  heart_disease ever_married work_type  \\\n",
              "3586  Female  72.00             1              1          Yes   Private   \n",
              "1470    Male  18.00             0              0           No   Private   \n",
              "4431  Female  13.00             0              0           No  children   \n",
              "2397    Male   1.64             0              0           No  children   \n",
              "717   Female  13.00             0              0           No  children   \n",
              "\n",
              "     Residence_type  avg_glucose_level   bmi   smoking_status  \n",
              "3586          Urban             198.32  31.3  formerly smoked  \n",
              "1470          Urban              83.02  40.4          Unknown  \n",
              "4431          Rural             146.10  22.8     never smoked  \n",
              "2397          Urban             115.12  21.1          Unknown  \n",
              "717           Rural              63.26  19.5          Unknown  "
            ]
          },
          "execution_count": 69,
          "metadata": {},
          "output_type": "execute_result"
        }
      ],
      "source": [
        "X_train.head()"
      ]
    },
    {
      "cell_type": "code",
      "execution_count": 70,
      "id": "f6ad9cea",
      "metadata": {
        "colab": {
          "base_uri": "https://localhost:8080/"
        },
        "id": "f6ad9cea",
        "outputId": "8b2b61dc-94cf-4795-d7f7-161218191d66"
      },
      "outputs": [
        {
          "data": {
            "text/plain": [
              "3586    0\n",
              "1470    0\n",
              "4431    0\n",
              "2397    0\n",
              "717     0\n",
              "Name: stroke, dtype: int64"
            ]
          },
          "execution_count": 70,
          "metadata": {},
          "output_type": "execute_result"
        }
      ],
      "source": [
        "y_train.head()"
      ]
    },
    {
      "cell_type": "markdown",
      "id": "6d67ff1d",
      "metadata": {
        "id": "6d67ff1d"
      },
      "source": [
        "</br>"
      ]
    },
    {
      "cell_type": "markdown",
      "id": "0a7eff2d",
      "metadata": {
        "id": "0a7eff2d"
      },
      "source": [
        "</br>"
      ]
    },
    {
      "cell_type": "markdown",
      "id": "f30bc657",
      "metadata": {
        "id": "f30bc657"
      },
      "source": [
        "### Handling the missing value of bmi column"
      ]
    },
    {
      "cell_type": "code",
      "execution_count": 71,
      "id": "50984480",
      "metadata": {
        "colab": {
          "base_uri": "https://localhost:8080/"
        },
        "id": "50984480",
        "outputId": "88c1dc9c-8a2b-4928-f995-43a737359802"
      },
      "outputs": [
        {
          "data": {
            "text/plain": [
              "0.03915426781519186"
            ]
          },
          "execution_count": 71,
          "metadata": {},
          "output_type": "execute_result"
        }
      ],
      "source": [
        "X_train['bmi'].isnull().mean()"
      ]
    },
    {
      "cell_type": "code",
      "execution_count": 72,
      "id": "3f49418d",
      "metadata": {
        "id": "3f49418d"
      },
      "outputs": [],
      "source": [
        "mean_bmi = X_train['bmi'].mean()\n",
        "median_bmi = X_train['bmi'].median()"
      ]
    },
    {
      "cell_type": "code",
      "execution_count": 73,
      "id": "101900d8",
      "metadata": {
        "id": "101900d8"
      },
      "outputs": [],
      "source": [
        "X_train['bmi_mean'] = X_train['bmi'].fillna(mean_bmi)\n",
        "X_train['bmi_median'] = X_train['bmi'].fillna(median_bmi)"
      ]
    },
    {
      "cell_type": "code",
      "execution_count": 74,
      "id": "e47a8c7e",
      "metadata": {
        "colab": {
          "base_uri": "https://localhost:8080/",
          "height": 278
        },
        "id": "e47a8c7e",
        "outputId": "08500c67-816e-40cf-9518-c61f93b645eb"
      },
      "outputs": [
        {
          "data": {
            "text/html": [
              "<div>\n",
              "<style scoped>\n",
              "    .dataframe tbody tr th:only-of-type {\n",
              "        vertical-align: middle;\n",
              "    }\n",
              "\n",
              "    .dataframe tbody tr th {\n",
              "        vertical-align: top;\n",
              "    }\n",
              "\n",
              "    .dataframe thead th {\n",
              "        text-align: right;\n",
              "    }\n",
              "</style>\n",
              "<table border=\"1\" class=\"dataframe\">\n",
              "  <thead>\n",
              "    <tr style=\"text-align: right;\">\n",
              "      <th></th>\n",
              "      <th>gender</th>\n",
              "      <th>age</th>\n",
              "      <th>hypertension</th>\n",
              "      <th>heart_disease</th>\n",
              "      <th>ever_married</th>\n",
              "      <th>work_type</th>\n",
              "      <th>Residence_type</th>\n",
              "      <th>avg_glucose_level</th>\n",
              "      <th>bmi</th>\n",
              "      <th>smoking_status</th>\n",
              "      <th>bmi_mean</th>\n",
              "      <th>bmi_median</th>\n",
              "    </tr>\n",
              "  </thead>\n",
              "  <tbody>\n",
              "    <tr>\n",
              "      <th>428</th>\n",
              "      <td>Female</td>\n",
              "      <td>40.0</td>\n",
              "      <td>0</td>\n",
              "      <td>0</td>\n",
              "      <td>Yes</td>\n",
              "      <td>Private</td>\n",
              "      <td>Rural</td>\n",
              "      <td>139.90</td>\n",
              "      <td>31.7</td>\n",
              "      <td>smokes</td>\n",
              "      <td>31.7</td>\n",
              "      <td>31.7</td>\n",
              "    </tr>\n",
              "    <tr>\n",
              "      <th>414</th>\n",
              "      <td>Male</td>\n",
              "      <td>12.0</td>\n",
              "      <td>0</td>\n",
              "      <td>0</td>\n",
              "      <td>No</td>\n",
              "      <td>children</td>\n",
              "      <td>Urban</td>\n",
              "      <td>86.86</td>\n",
              "      <td>25.4</td>\n",
              "      <td>never smoked</td>\n",
              "      <td>25.4</td>\n",
              "      <td>25.4</td>\n",
              "    </tr>\n",
              "    <tr>\n",
              "      <th>775</th>\n",
              "      <td>Male</td>\n",
              "      <td>17.0</td>\n",
              "      <td>0</td>\n",
              "      <td>0</td>\n",
              "      <td>No</td>\n",
              "      <td>Self-employed</td>\n",
              "      <td>Urban</td>\n",
              "      <td>98.42</td>\n",
              "      <td>23.4</td>\n",
              "      <td>Unknown</td>\n",
              "      <td>23.4</td>\n",
              "      <td>23.4</td>\n",
              "    </tr>\n",
              "    <tr>\n",
              "      <th>86</th>\n",
              "      <td>Male</td>\n",
              "      <td>61.0</td>\n",
              "      <td>0</td>\n",
              "      <td>1</td>\n",
              "      <td>Yes</td>\n",
              "      <td>Private</td>\n",
              "      <td>Rural</td>\n",
              "      <td>111.81</td>\n",
              "      <td>27.3</td>\n",
              "      <td>smokes</td>\n",
              "      <td>27.3</td>\n",
              "      <td>27.3</td>\n",
              "    </tr>\n",
              "    <tr>\n",
              "      <th>873</th>\n",
              "      <td>Female</td>\n",
              "      <td>28.0</td>\n",
              "      <td>0</td>\n",
              "      <td>0</td>\n",
              "      <td>Yes</td>\n",
              "      <td>Private</td>\n",
              "      <td>Rural</td>\n",
              "      <td>87.01</td>\n",
              "      <td>39.9</td>\n",
              "      <td>never smoked</td>\n",
              "      <td>39.9</td>\n",
              "      <td>39.9</td>\n",
              "    </tr>\n",
              "  </tbody>\n",
              "</table>\n",
              "</div>"
            ],
            "text/plain": [
              "     gender   age  hypertension  heart_disease ever_married      work_type  \\\n",
              "428  Female  40.0             0              0          Yes        Private   \n",
              "414    Male  12.0             0              0           No       children   \n",
              "775    Male  17.0             0              0           No  Self-employed   \n",
              "86     Male  61.0             0              1          Yes        Private   \n",
              "873  Female  28.0             0              0          Yes        Private   \n",
              "\n",
              "    Residence_type  avg_glucose_level   bmi smoking_status  bmi_mean  \\\n",
              "428          Rural             139.90  31.7         smokes      31.7   \n",
              "414          Urban              86.86  25.4   never smoked      25.4   \n",
              "775          Urban              98.42  23.4        Unknown      23.4   \n",
              "86           Rural             111.81  27.3         smokes      27.3   \n",
              "873          Rural              87.01  39.9   never smoked      39.9   \n",
              "\n",
              "     bmi_median  \n",
              "428        31.7  \n",
              "414        25.4  \n",
              "775        23.4  \n",
              "86         27.3  \n",
              "873        39.9  "
            ]
          },
          "execution_count": 74,
          "metadata": {},
          "output_type": "execute_result"
        }
      ],
      "source": [
        "X_train.sample(5)"
      ]
    },
    {
      "cell_type": "code",
      "execution_count": 75,
      "id": "6ba5149e",
      "metadata": {
        "colab": {
          "base_uri": "https://localhost:8080/"
        },
        "id": "6ba5149e",
        "outputId": "e7458b3b-cf3e-4d46-ed10-95c09254f0e9"
      },
      "outputs": [
        {
          "name": "stdout",
          "output_type": "stream",
          "text": [
            "Original bmi variance: 61.58040789807826\n",
            "bmi variance after mean imputation: 59.16864257569922\n",
            "bmi variance after median imputation: 59.19561678842315\n"
          ]
        }
      ],
      "source": [
        "print(f\"Original bmi variance: {X_train['bmi'].var()}\")\n",
        "print(f\"bmi variance after mean imputation: {X_train['bmi_mean'].var()}\")\n",
        "print(f\"bmi variance after median imputation: {X_train['bmi_median'].var()}\")"
      ]
    },
    {
      "cell_type": "code",
      "execution_count": 76,
      "id": "201e604f",
      "metadata": {
        "colab": {
          "base_uri": "https://localhost:8080/",
          "height": 291
        },
        "id": "201e604f",
        "outputId": "a3d6d194-00df-485b-fbb6-905e977cc8c8"
      },
      "outputs": [
        {
          "data": {
            "image/png": "[encoded data removed]",
            "text/plain": [
              "<Figure size 500x300 with 1 Axes>"
            ]
          },
          "metadata": {},
          "output_type": "display_data"
        }
      ],
      "source": [
        "fig = plt.figure(figsize= (5,3))\n",
        "\n",
        "X_train['bmi'].plot(kind= 'kde', label= 'original bmi')\n",
        "X_train['bmi_mean'].plot(kind= 'kde', label= 'mean imputed bmi')\n",
        "X_train['bmi_mean'].plot(kind= 'kde', label= 'median imputed bmi')\n",
        "\n",
        "plt.legend()\n",
        "plt.show()"
      ]
    },
    {
      "cell_type": "markdown",
      "id": "f2c9f747",
      "metadata": {
        "id": "f2c9f747"
      },
      "source": [
        "**Conclusion** - we can see that there were only 0.03% of data in bmi were missing and mean/median imputation doesn't harm our data's distribution as all the plots are almost overlapping each other. So as a result of this we can safely carry our analysis using mean/median imputation"
      ]
    },
    {
      "cell_type": "markdown",
      "id": "3baa9c93",
      "metadata": {
        "id": "3baa9c93"
      },
      "source": [
        "### Handling the outliers of bmi column"
      ]
    },
    {
      "cell_type": "markdown",
      "id": "a953bfe7",
      "metadata": {
        "id": "a953bfe7"
      },
      "source": [
        "* **IQR method**"
      ]
    },
    {
      "cell_type": "code",
      "execution_count": 77,
      "id": "38a2fced",
      "metadata": {
        "colab": {
          "base_uri": "https://localhost:8080/"
        },
        "id": "38a2fced",
        "outputId": "d864a3ce-13fd-4a2a-d81b-04f2748cb6f0"
      },
      "outputs": [
        {
          "data": {
            "text/plain": [
              "47.5"
            ]
          },
          "execution_count": 77,
          "metadata": {},
          "output_type": "execute_result"
        }
      ],
      "source": [
        "bmi_upper_limit"
      ]
    },
    {
      "cell_type": "code",
      "execution_count": 78,
      "id": "e1d30f74",
      "metadata": {
        "id": "e1d30f74"
      },
      "outputs": [],
      "source": [
        "new_df = df[(df['bmi']<= bmi_upper_limit)]"
      ]
    },
    {
      "cell_type": "code",
      "execution_count": 79,
      "id": "cc3a41cd",
      "metadata": {
        "id": "cc3a41cd"
      },
      "outputs": [],
      "source": [
        "df1 = df\n",
        "df1['new_bmi'] = np.where(df['bmi']> bmi_upper_limit, bmi_upper_limit, df['bmi'])"
      ]
    },
    {
      "cell_type": "code",
      "execution_count": 80,
      "id": "4fad0edb",
      "metadata": {
        "colab": {
          "base_uri": "https://localhost:8080/"
        },
        "id": "4fad0edb",
        "outputId": "3fb601ed-5eb2-4707-a06a-3e849cab9753"
      },
      "outputs": [
        {
          "data": {
            "text/plain": [
              "count    4908.00000\n",
              "mean       28.89456\n",
              "std         7.85432\n",
              "min        10.30000\n",
              "25%        23.50000\n",
              "50%        28.10000\n",
              "75%        33.10000\n",
              "max        97.60000\n",
              "Name: bmi, dtype: float64"
            ]
          },
          "execution_count": 80,
          "metadata": {},
          "output_type": "execute_result"
        }
      ],
      "source": [
        "df['bmi'].describe()"
      ]
    },
    {
      "cell_type": "code",
      "execution_count": 81,
      "id": "467224ca",
      "metadata": {
        "colab": {
          "base_uri": "https://localhost:8080/"
        },
        "id": "467224ca",
        "outputId": "295db485-c47a-44d1-8d0d-02d23578ede1"
      },
      "outputs": [
        {
          "data": {
            "text/plain": [
              "count    4798.000000\n",
              "mean       28.314819\n",
              "std         6.841431\n",
              "min        10.300000\n",
              "25%        23.425000\n",
              "50%        27.900000\n",
              "75%        32.600000\n",
              "max        47.500000\n",
              "Name: bmi, dtype: float64"
            ]
          },
          "execution_count": 81,
          "metadata": {},
          "output_type": "execute_result"
        }
      ],
      "source": [
        "new_df['bmi'].describe()"
      ]
    },
    {
      "cell_type": "code",
      "execution_count": 82,
      "id": "ce08838f",
      "metadata": {
        "colab": {
          "base_uri": "https://localhost:8080/"
        },
        "id": "ce08838f",
        "outputId": "360c890a-388f-4c44-f8a9-a20d621c019e"
      },
      "outputs": [
        {
          "data": {
            "text/plain": [
              "count    4908.000000\n",
              "mean       28.744804\n",
              "std         7.336352\n",
              "min        10.300000\n",
              "25%        23.500000\n",
              "50%        28.100000\n",
              "75%        33.100000\n",
              "max        47.500000\n",
              "Name: new_bmi, dtype: float64"
            ]
          },
          "execution_count": 82,
          "metadata": {},
          "output_type": "execute_result"
        }
      ],
      "source": [
        "df1['new_bmi'].describe()"
      ]
    },
    {
      "cell_type": "code",
      "execution_count": 83,
      "id": "86a5d722",
      "metadata": {
        "colab": {
          "base_uri": "https://localhost:8080/",
          "height": 468
        },
        "id": "86a5d722",
        "outputId": "63229dfc-19a8-4a9f-b3dd-d99b589bdf6d"
      },
      "outputs": [
        {
          "data": {
            "image/png": "[encoded data removed]",
            "text/plain": [
              "<Figure size 1000x500 with 4 Axes>"
            ]
          },
          "metadata": {},
          "output_type": "display_data"
        }
      ],
      "source": [
        "plt.figure(figsize=(10,5))\n",
        "\n",
        "plt.subplot(2,2,1)\n",
        "df['bmi'].plot(kind= 'kde', label= 'original')\n",
        "new_df['bmi'].plot(kind= 'kde', label= 'outlier removed')\n",
        "plt.legend()\n",
        "\n",
        "plt.subplot(2,2,2)\n",
        "df['bmi'].plot(kind= 'kde', label= 'original')\n",
        "df1['bmi'].plot(kind= 'kde', label= 'winsorization')\n",
        "plt.legend()\n",
        "\n",
        "plt.subplot(2,2,3)\n",
        "sns.boxplot(x= new_df['bmi'], data= new_df)\n",
        "\n",
        "plt.subplot(2,2,4)\n",
        "sns.boxplot(x= df1['new_bmi'], data= df1)\n",
        "\n",
        "plt.show()"
      ]
    },
    {
      "cell_type": "code",
      "execution_count": 84,
      "id": "LN63LH3Uz5XC",
      "metadata": {
        "id": "LN63LH3Uz5XC"
      },
      "outputs": [],
      "source": [
        "df.drop('bmi',inplace= True, axis= 1)"
      ]
    },
    {
      "cell_type": "code",
      "execution_count": 85,
      "id": "j1x1lRUEz_rl",
      "metadata": {
        "colab": {
          "base_uri": "https://localhost:8080/",
          "height": 261
        },
        "id": "j1x1lRUEz_rl",
        "outputId": "7f4ec6fc-37a2-4068-e99a-ec9dfe91ec17"
      },
      "outputs": [
        {
          "data": {
            "text/html": [
              "<div>\n",
              "<style scoped>\n",
              "    .dataframe tbody tr th:only-of-type {\n",
              "        vertical-align: middle;\n",
              "    }\n",
              "\n",
              "    .dataframe tbody tr th {\n",
              "        vertical-align: top;\n",
              "    }\n",
              "\n",
              "    .dataframe thead th {\n",
              "        text-align: right;\n",
              "    }\n",
              "</style>\n",
              "<table border=\"1\" class=\"dataframe\">\n",
              "  <thead>\n",
              "    <tr style=\"text-align: right;\">\n",
              "      <th></th>\n",
              "      <th>gender</th>\n",
              "      <th>age</th>\n",
              "      <th>hypertension</th>\n",
              "      <th>heart_disease</th>\n",
              "      <th>ever_married</th>\n",
              "      <th>work_type</th>\n",
              "      <th>Residence_type</th>\n",
              "      <th>avg_glucose_level</th>\n",
              "      <th>smoking_status</th>\n",
              "      <th>stroke</th>\n",
              "      <th>new_bmi</th>\n",
              "    </tr>\n",
              "  </thead>\n",
              "  <tbody>\n",
              "    <tr>\n",
              "      <th>0</th>\n",
              "      <td>Male</td>\n",
              "      <td>67.0</td>\n",
              "      <td>0</td>\n",
              "      <td>1</td>\n",
              "      <td>Yes</td>\n",
              "      <td>Private</td>\n",
              "      <td>Urban</td>\n",
              "      <td>228.69</td>\n",
              "      <td>formerly smoked</td>\n",
              "      <td>1</td>\n",
              "      <td>36.6</td>\n",
              "    </tr>\n",
              "    <tr>\n",
              "      <th>1</th>\n",
              "      <td>Female</td>\n",
              "      <td>61.0</td>\n",
              "      <td>0</td>\n",
              "      <td>0</td>\n",
              "      <td>Yes</td>\n",
              "      <td>Self-employed</td>\n",
              "      <td>Rural</td>\n",
              "      <td>202.21</td>\n",
              "      <td>never smoked</td>\n",
              "      <td>1</td>\n",
              "      <td>NaN</td>\n",
              "    </tr>\n",
              "    <tr>\n",
              "      <th>2</th>\n",
              "      <td>Male</td>\n",
              "      <td>80.0</td>\n",
              "      <td>0</td>\n",
              "      <td>1</td>\n",
              "      <td>Yes</td>\n",
              "      <td>Private</td>\n",
              "      <td>Rural</td>\n",
              "      <td>105.92</td>\n",
              "      <td>never smoked</td>\n",
              "      <td>1</td>\n",
              "      <td>32.5</td>\n",
              "    </tr>\n",
              "    <tr>\n",
              "      <th>3</th>\n",
              "      <td>Female</td>\n",
              "      <td>49.0</td>\n",
              "      <td>0</td>\n",
              "      <td>0</td>\n",
              "      <td>Yes</td>\n",
              "      <td>Private</td>\n",
              "      <td>Urban</td>\n",
              "      <td>171.23</td>\n",
              "      <td>smokes</td>\n",
              "      <td>1</td>\n",
              "      <td>34.4</td>\n",
              "    </tr>\n",
              "    <tr>\n",
              "      <th>4</th>\n",
              "      <td>Female</td>\n",
              "      <td>79.0</td>\n",
              "      <td>1</td>\n",
              "      <td>0</td>\n",
              "      <td>Yes</td>\n",
              "      <td>Self-employed</td>\n",
              "      <td>Rural</td>\n",
              "      <td>174.12</td>\n",
              "      <td>never smoked</td>\n",
              "      <td>1</td>\n",
              "      <td>24.0</td>\n",
              "    </tr>\n",
              "  </tbody>\n",
              "</table>\n",
              "</div>"
            ],
            "text/plain": [
              "   gender   age  hypertension  heart_disease ever_married      work_type  \\\n",
              "0    Male  67.0             0              1          Yes        Private   \n",
              "1  Female  61.0             0              0          Yes  Self-employed   \n",
              "2    Male  80.0             0              1          Yes        Private   \n",
              "3  Female  49.0             0              0          Yes        Private   \n",
              "4  Female  79.0             1              0          Yes  Self-employed   \n",
              "\n",
              "  Residence_type  avg_glucose_level   smoking_status  stroke  new_bmi  \n",
              "0          Urban             228.69  formerly smoked       1     36.6  \n",
              "1          Rural             202.21     never smoked       1      NaN  \n",
              "2          Rural             105.92     never smoked       1     32.5  \n",
              "3          Urban             171.23           smokes       1     34.4  \n",
              "4          Rural             174.12     never smoked       1     24.0  "
            ]
          },
          "execution_count": 85,
          "metadata": {},
          "output_type": "execute_result"
        }
      ],
      "source": [
        "df.head()"
      ]
    },
    {
      "cell_type": "markdown",
      "id": "3c09f5a6",
      "metadata": {
        "id": "3c09f5a6"
      },
      "source": [
        "* **Conclusion** - As we can't treat all the bmi's as outliers we capped the values greater than the upperlimit to 47.5 and we found that the data distribution had no effects also bmi in the range of 50 - 60 can be very rare cases so removal of all the data may not affect our model's predictive power."
      ]
    },
    {
      "cell_type": "markdown",
      "id": "gLog4Lg7w4gG",
      "metadata": {
        "id": "gLog4Lg7w4gG"
      },
      "source": [
        "# Main Modelling"
      ]
    },
    {
      "cell_type": "code",
      "execution_count": 86,
      "id": "nqFK9CYFt1_6",
      "metadata": {
        "id": "nqFK9CYFt1_6"
      },
      "outputs": [],
      "source": [
        "from sklearn.compose import ColumnTransformer\n",
        "\n",
        "from sklearn.impute import KNNImputer, SimpleImputer\n",
        "from sklearn.preprocessing import OneHotEncoder, OrdinalEncoder, MinMaxScaler\n",
        "from sklearn.model_selection import train_test_split, GridSearchCV\n",
        "from sklearn.feature_selection import SelectKBest, chi2\n",
        "\n",
        "from sklearn.ensemble import RandomForestClassifier, GradientBoostingClassifier, StackingClassifier, VotingClassifier\n",
        "from sklearn.svm import SVC\n",
        "from sklearn.tree import DecisionTreeClassifier\n",
        "from sklearn.neighbors import KNeighborsClassifier\n",
        "from sklearn.naive_bayes import BernoulliNB\n",
        "\n",
        "from sklearn.metrics import classification_report, confusion_matrix, recall_score, f1_score, accuracy_score, precision_score\n",
        "\n",
        "from imblearn.over_sampling import SMOTE\n",
        "from imblearn.pipeline import Pipeline"
      ]
    },
    {
      "cell_type": "code",
      "execution_count": 87,
      "id": "t7s4Xh-IyCHu",
      "metadata": {
        "id": "t7s4Xh-IyCHu"
      },
      "outputs": [],
      "source": [
        "X_train, X_test, y_train, y_test = train_test_split(df.drop(columns=['stroke']),df['stroke'],\n",
        "                                                    test_size= 0.25,\n",
        "                                                    stratify= df['stroke'],\n",
        "                                                    shuffle= True,\n",
        "                                                    random_state= 42)"
      ]
    },
    {
      "cell_type": "code",
      "execution_count": 88,
      "id": "QfGe3RhJSK0L",
      "metadata": {
        "colab": {
          "base_uri": "https://localhost:8080/",
          "height": 132
        },
        "id": "QfGe3RhJSK0L",
        "outputId": "898bc2fb-ad4e-491a-9a9c-2cf5d8da9edd"
      },
      "outputs": [
        {
          "data": {
            "text/html": [
              "<div>\n",
              "<style scoped>\n",
              "    .dataframe tbody tr th:only-of-type {\n",
              "        vertical-align: middle;\n",
              "    }\n",
              "\n",
              "    .dataframe tbody tr th {\n",
              "        vertical-align: top;\n",
              "    }\n",
              "\n",
              "    .dataframe thead th {\n",
              "        text-align: right;\n",
              "    }\n",
              "</style>\n",
              "<table border=\"1\" class=\"dataframe\">\n",
              "  <thead>\n",
              "    <tr style=\"text-align: right;\">\n",
              "      <th></th>\n",
              "      <th>gender</th>\n",
              "      <th>age</th>\n",
              "      <th>hypertension</th>\n",
              "      <th>heart_disease</th>\n",
              "      <th>ever_married</th>\n",
              "      <th>work_type</th>\n",
              "      <th>Residence_type</th>\n",
              "      <th>avg_glucose_level</th>\n",
              "      <th>smoking_status</th>\n",
              "      <th>new_bmi</th>\n",
              "    </tr>\n",
              "  </thead>\n",
              "  <tbody>\n",
              "    <tr>\n",
              "      <th>3586</th>\n",
              "      <td>Female</td>\n",
              "      <td>72.0</td>\n",
              "      <td>1</td>\n",
              "      <td>1</td>\n",
              "      <td>Yes</td>\n",
              "      <td>Private</td>\n",
              "      <td>Urban</td>\n",
              "      <td>198.32</td>\n",
              "      <td>formerly smoked</td>\n",
              "      <td>31.3</td>\n",
              "    </tr>\n",
              "    <tr>\n",
              "      <th>1470</th>\n",
              "      <td>Male</td>\n",
              "      <td>18.0</td>\n",
              "      <td>0</td>\n",
              "      <td>0</td>\n",
              "      <td>No</td>\n",
              "      <td>Private</td>\n",
              "      <td>Urban</td>\n",
              "      <td>83.02</td>\n",
              "      <td>Unknown</td>\n",
              "      <td>40.4</td>\n",
              "    </tr>\n",
              "  </tbody>\n",
              "</table>\n",
              "</div>"
            ],
            "text/plain": [
              "      gender   age  hypertension  heart_disease ever_married work_type  \\\n",
              "3586  Female  72.0             1              1          Yes   Private   \n",
              "1470    Male  18.0             0              0           No   Private   \n",
              "\n",
              "     Residence_type  avg_glucose_level   smoking_status  new_bmi  \n",
              "3586          Urban             198.32  formerly smoked     31.3  \n",
              "1470          Urban              83.02          Unknown     40.4  "
            ]
          },
          "execution_count": 88,
          "metadata": {},
          "output_type": "execute_result"
        }
      ],
      "source": [
        "X_train.head(2)"
      ]
    },
    {
      "cell_type": "code",
      "execution_count": 89,
      "id": "TcahouphSYx0",
      "metadata": {
        "colab": {
          "base_uri": "https://localhost:8080/"
        },
        "id": "TcahouphSYx0",
        "outputId": "342cf403-d226-428f-9358-5da3005ebaaa"
      },
      "outputs": [
        {
          "data": {
            "text/plain": [
              "array(['Private', 'children', 'Self-employed', 'Govt_job', 'Never_worked'],\n",
              "      dtype=object)"
            ]
          },
          "execution_count": 89,
          "metadata": {},
          "output_type": "execute_result"
        }
      ],
      "source": [
        "X_train['work_type'].unique()"
      ]
    },
    {
      "cell_type": "markdown",
      "id": "wIvZbmSRnRtP",
      "metadata": {
        "id": "wIvZbmSRnRtP"
      },
      "source": [
        "## **Creating Pipeline**"
      ]
    },
    {
      "cell_type": "code",
      "execution_count": 90,
      "id": "vNWqgX_ppCr8",
      "metadata": {
        "id": "vNWqgX_ppCr8"
      },
      "outputs": [],
      "source": [
        "# from sklearn import set_config\n",
        "# set_config(display='diagram')"
      ]
    },
    {
      "cell_type": "code",
      "execution_count": 91,
      "id": "CTcW4rupks-H",
      "metadata": {
        "id": "CTcW4rupks-H"
      },
      "outputs": [],
      "source": [
        "## transformers\n",
        "\n",
        "## oh_encoding_transformer\n",
        "trf1 = ColumnTransformer([\n",
        "    ('ohe(gender,ever_married,Residence_type,smoking_status)',OneHotEncoder(sparse= False, handle_unknown= 'ignore'),[0,4,6,8]),\n",
        "    ],remainder= 'passthrough')\n",
        "\n",
        "## ordinal_encoder_transformer\n",
        "trf2 =  ColumnTransformer([\n",
        "    ('oe_work_type', OrdinalEncoder(categories= [[\"children\",\"Never_worked\",\"Self-employed\",\"Govt_job\",\"Private\"]]),[13])\n",
        "],remainder= 'passthrough')\n",
        "\n",
        "## imputing_transformer\n",
        "trf3 = ColumnTransformer([('bmi_imputer',SimpleImputer(),[15])\n",
        "],remainder= 'passthrough')\n",
        "\n",
        "## scaling_transformer\n",
        "trf4 = ColumnTransformer([\n",
        "    ('scaler', MinMaxScaler(), slice(0,16))\n",
        "])\n",
        "\n",
        "## feature_selection_transformer\n",
        "trf5 = SelectKBest(score_func= chi2)\n"
      ]
    },
    {
      "cell_type": "markdown",
      "id": "gl97XY8L4zcr",
      "metadata": {
        "id": "gl97XY8L4zcr"
      },
      "source": [
        "### **Over-Sampling**"
      ]
    },
    {
      "cell_type": "code",
      "execution_count": 92,
      "id": "oeUPzvgB43kr",
      "metadata": {
        "id": "oeUPzvgB43kr"
      },
      "outputs": [],
      "source": [
        "rf_pipe = Pipeline([\n",
        "    ('trf1', trf1),\n",
        "    ('trf2', trf2),\n",
        "    ('trf3', trf3),\n",
        "    ('trf4', trf4),\n",
        "    ('trf5', trf5),\n",
        "    ('sampler', SMOTE()),\n",
        "    ('rf_classifier', RandomForestClassifier())])\n",
        "\n",
        "gb_pipe = Pipeline([\n",
        "    ('trf1', trf1),\n",
        "    ('trf2', trf2),\n",
        "    ('trf3', trf3),\n",
        "    ('trf4', trf4),\n",
        "    ('trf5', trf5),\n",
        "    ('sampler', SMOTE()),\n",
        "    ('gb_classifier', GradientBoostingClassifier(random_state= 342))])\n",
        "\n",
        "dt_pipe = Pipeline([\n",
        "    ('trf1', trf1),\n",
        "    ('trf2', trf2),\n",
        "    ('trf3', trf3),\n",
        "    ('trf4', trf4),\n",
        "    ('trf5', trf5),\n",
        "    ('sampler', SMOTE()),\n",
        "    ('dtc', DecisionTreeClassifier(random_state= 102))])\n",
        "\n",
        "knn_pipe = Pipeline([\n",
        "    ('trf1', trf1),\n",
        "    ('trf2', trf2),\n",
        "    ('trf3', trf3),\n",
        "    ('trf4', trf4),\n",
        "    ('trf5', trf5),\n",
        "    ('sampler', SMOTE()),\n",
        "    ('knn', KNeighborsClassifier())])"
      ]
    },
    {
      "cell_type": "markdown",
      "id": "dhlMjyBr9Rdp",
      "metadata": {
        "id": "dhlMjyBr9Rdp"
      },
      "source": [
        "## **Cross-Validation**"
      ]
    },
    {
      "cell_type": "code",
      "execution_count": 93,
      "id": "v6X-Dq6_TA6Z",
      "metadata": {
        "id": "v6X-Dq6_TA6Z"
      },
      "outputs": [],
      "source": [
        "param_grid_rf = {\n",
        "    'rf_classifier__n_estimators': [100, 200, 300],\n",
        "    'rf_classifier__max_depth': [10, 15, 20, None],\n",
        "    'rf_classifier__min_samples_split': [2, 5, 10]\n",
        "}\n",
        "\n",
        "param_grid_gb = {\n",
        "    'gb_classifier__n_estimators': [100, 200, 300, 500],\n",
        "    'gb_classifier__learning_rate': [0.01, 0.1, 0.2, 0.3, 0.5],\n",
        "    'gb_classifier__max_depth': [3, 5, 7]\n",
        "}\n",
        "\n",
        "param_grid_dct = {\n",
        "    'dtc__max_depth': [1,2],\n",
        "    'dtc__max_features' : [0.4, 0.6, 0.8, 0.9],\n",
        "    'dtc__max_leaf_nodes': [2,3,4]\n",
        "}\n",
        "\n",
        "param_grid_knn = {\n",
        "    'knn__n_neighbors' : [90,91,92,93,94,95,96,97,98,99,100],\n",
        "    'knn__weights' : ['uniform','distance'],\n",
        "    'knn__p': [2,3,4,5]\n",
        "    \n",
        "}"
      ]
    },
    {
      "cell_type": "code",
      "execution_count": 94,
      "id": "c69d807f",
      "metadata": {},
      "outputs": [],
      "source": [
        "X, X_test, y, y_test = train_test_split(df.drop(columns=['stroke']),df['stroke'],\n",
        "                                                    test_size= 0.2, stratify= df['stroke'], random_state= 102)"
      ]
    },
    {
      "cell_type": "code",
      "execution_count": 95,
      "id": "150e29de",
      "metadata": {},
      "outputs": [
        {
          "name": "stdout",
          "output_type": "stream",
          "text": [
            "Fitting 7 folds for each of 36 candidates, totalling 252 fits\n",
            "====================================================================================================\n",
            "Random Forest\n",
            "\n",
            "Best Paramtere {'rf_classifier__max_depth': 10, 'rf_classifier__min_samples_split': 2, 'rf_classifier__n_estimators': 100}Train Data\n",
            "Confusion Matrix\n",
            "[[3316  572]\n",
            " [  22  177]]\n",
            "              precision    recall  f1-score   support\n",
            "\n",
            "           0       0.99      0.85      0.92      3888\n",
            "           1       0.24      0.89      0.37       199\n",
            "\n",
            "    accuracy                           0.85      4087\n",
            "   macro avg       0.61      0.87      0.65      4087\n",
            "weighted avg       0.96      0.85      0.89      4087\n",
            "\n",
            "\n",
            "\n",
            "Test Data\n",
            "Confusion Matrix\n",
            "[[803 169]\n",
            " [ 26  24]]\n",
            "              precision    recall  f1-score   support\n",
            "\n",
            "           0       0.97      0.83      0.89       972\n",
            "           1       0.12      0.48      0.20        50\n",
            "\n",
            "    accuracy                           0.81      1022\n",
            "   macro avg       0.55      0.65      0.54      1022\n",
            "weighted avg       0.93      0.81      0.86      1022\n",
            "\n",
            "====================================================================================================\n",
            "Fitting 7 folds for each of 24 candidates, totalling 168 fits\n",
            "====================================================================================================\n",
            "Decision Tree Classifier\n",
            "\n",
            "Best Paramtere {'dtc__max_depth': 1, 'dtc__max_features': 0.4, 'dtc__max_leaf_nodes': 2}Train Data\n",
            "Confusion Matrix\n",
            "[[2322 1566]\n",
            " [  16  183]]\n",
            "              precision    recall  f1-score   support\n",
            "\n",
            "           0       0.99      0.60      0.75      3888\n",
            "           1       0.10      0.92      0.19       199\n",
            "\n",
            "    accuracy                           0.61      4087\n",
            "   macro avg       0.55      0.76      0.47      4087\n",
            "weighted avg       0.95      0.61      0.72      4087\n",
            "\n",
            "\n",
            "\n",
            "Test Data\n",
            "Confusion Matrix\n",
            "[[557 415]\n",
            " [  4  46]]\n",
            "              precision    recall  f1-score   support\n",
            "\n",
            "           0       0.99      0.57      0.73       972\n",
            "           1       0.10      0.92      0.18        50\n",
            "\n",
            "    accuracy                           0.59      1022\n",
            "   macro avg       0.55      0.75      0.45      1022\n",
            "weighted avg       0.95      0.59      0.70      1022\n",
            "\n",
            "====================================================================================================\n",
            "Fitting 7 folds for each of 88 candidates, totalling 616 fits\n",
            "====================================================================================================\n",
            "KNN\n",
            "\n",
            "Best Paramtere {'knn__n_neighbors': 90, 'knn__p': 2, 'knn__weights': 'uniform'}Train Data\n",
            "Confusion Matrix\n",
            "[[2683 1205]\n",
            " [  26  173]]\n",
            "              precision    recall  f1-score   support\n",
            "\n",
            "           0       0.99      0.69      0.81      3888\n",
            "           1       0.13      0.87      0.22       199\n",
            "\n",
            "    accuracy                           0.70      4087\n",
            "   macro avg       0.56      0.78      0.52      4087\n",
            "weighted avg       0.95      0.70      0.78      4087\n",
            "\n",
            "\n",
            "\n",
            "Test Data\n",
            "Confusion Matrix\n",
            "[[647 325]\n",
            " [  6  44]]\n",
            "              precision    recall  f1-score   support\n",
            "\n",
            "           0       0.99      0.67      0.80       972\n",
            "           1       0.12      0.88      0.21        50\n",
            "\n",
            "    accuracy                           0.68      1022\n",
            "   macro avg       0.56      0.77      0.50      1022\n",
            "weighted avg       0.95      0.68      0.77      1022\n",
            "\n",
            "====================================================================================================\n",
            "Fitting 7 folds for each of 60 candidates, totalling 420 fits\n",
            "====================================================================================================\n",
            "Gradient Boosting Classifier\n",
            "\n",
            "Best Paramtere {'gb_classifier__learning_rate': 0.01, 'gb_classifier__max_depth': 3, 'gb_classifier__n_estimators': 100}Train Data\n",
            "Confusion Matrix\n",
            "[[2844 1044]\n",
            " [  40  159]]\n",
            "              precision    recall  f1-score   support\n",
            "\n",
            "           0       0.99      0.73      0.84      3888\n",
            "           1       0.13      0.80      0.23       199\n",
            "\n",
            "    accuracy                           0.73      4087\n",
            "   macro avg       0.56      0.77      0.53      4087\n",
            "weighted avg       0.94      0.73      0.81      4087\n",
            "\n",
            "\n",
            "\n",
            "Test Data\n",
            "Confusion Matrix\n",
            "[[696 276]\n",
            " [ 12  38]]\n",
            "              precision    recall  f1-score   support\n",
            "\n",
            "           0       0.98      0.72      0.83       972\n",
            "           1       0.12      0.76      0.21        50\n",
            "\n",
            "    accuracy                           0.72      1022\n",
            "   macro avg       0.55      0.74      0.52      1022\n",
            "weighted avg       0.94      0.72      0.80      1022\n",
            "\n",
            "====================================================================================================\n"
          ]
        }
      ],
      "source": [
        "params = [param_grid_rf, param_grid_dct, param_grid_knn, param_grid_gb]\n",
        "pipes = [rf_pipe, dt_pipe, knn_pipe, gb_pipe]\n",
        "models = ['Random Forest','Decision Tree Classifier', 'KNN', 'Gradient Boosting Classifier']\n",
        "\n",
        "best_models= {}\n",
        "\n",
        "for i in range(len(pipes)):\n",
        "    grid = GridSearchCV(pipes[i], param_grid= params[i], cv= 7, n_jobs= -1, scoring= recall_score, verbose= 2)\n",
        "    grid.fit(X, y)\n",
        "    estimator = grid.best_estimator_\n",
        "    estimator.fit(X, y)\n",
        "    \n",
        "    best_models[models[i]] = estimator\n",
        "\n",
        "    train_pred = estimator.predict(X)\n",
        "    test_pred = estimator.predict(X_test)\n",
        "\n",
        "    print('=='*50)\n",
        "    print(f'{models[i]}\\n\\nBest Paramtere {grid.best_params_}Train Data\\nConfusion Matrix\\n{confusion_matrix(y, train_pred)}\\n{classification_report(y, train_pred)}\\n\\n')\n",
        "    print(f'Test Data\\nConfusion Matrix\\n{confusion_matrix(y_test, test_pred)}\\n{classification_report(y_test, test_pred)}')\n",
        "    print('=='*50)"
      ]
    },
    {
      "cell_type": "code",
      "execution_count": 96,
      "id": "4e63240f",
      "metadata": {},
      "outputs": [
        {
          "name": "stdout",
          "output_type": "stream",
          "text": [
            "====================================================================================================\n",
            "Train Data\n",
            "Confusion Matrix\n",
            "[[2529 1359]\n",
            " [  24  175]]\n",
            "              precision    recall  f1-score   support\n",
            "\n",
            "           0       0.99      0.65      0.79      3888\n",
            "           1       0.11      0.88      0.20       199\n",
            "\n",
            "    accuracy                           0.66      4087\n",
            "   macro avg       0.55      0.76      0.49      4087\n",
            "weighted avg       0.95      0.66      0.76      4087\n",
            "\n",
            "\n",
            "\n",
            "Test Data\n",
            "Confusion Matrix\n",
            "[[605 367]\n",
            " [  5  45]]\n",
            "              precision    recall  f1-score   support\n",
            "\n",
            "           0       0.99      0.62      0.76       972\n",
            "           1       0.11      0.90      0.19        50\n",
            "\n",
            "    accuracy                           0.64      1022\n",
            "   macro avg       0.55      0.76      0.48      1022\n",
            "weighted avg       0.95      0.64      0.74      1022\n",
            "\n",
            "====================================================================================================\n"
          ]
        }
      ],
      "source": [
        "models = [ estimator for estimator in best_models.values()]\n",
        "\n",
        "vt_clf = VotingClassifier(estimators= [\n",
        "    ('dt', models[1]),\n",
        "    ('knn', models[2]),\n",
        "    ('gb', models[3])\n",
        "], voting= 'soft')\n",
        "\n",
        "vt_clf.fit(X, y)\n",
        "\n",
        "train_pred = vt_clf.predict(X)\n",
        "test_pred = vt_clf.predict(X_test)\n",
        "\n",
        "print('=='*50)\n",
        "print(f'Train Data\\nConfusion Matrix\\n{confusion_matrix(y, train_pred)}\\n{classification_report(y, train_pred)}\\n\\n')\n",
        "print(f'Test Data\\nConfusion Matrix\\n{confusion_matrix(y_test, test_pred)}\\n{classification_report(y_test, test_pred)}')\n",
        "print('=='*50)\n"
      ]
    }
  ],
  "metadata": {
    "accelerator": "GPU",
    "colab": {
      "gpuType": "T4",
      "provenance": []
    },
    "kernelspec": {
      "display_name": "Python 3",
      "name": "python3"
    },
    "language_info": {
      "codemirror_mode": {
        "name": "ipython",
        "version": 3
      },
      "file_extension": ".py",
      "mimetype": "text/x-python",
      "name": "python",
      "nbconvert_exporter": "python",
      "pygments_lexer": "ipython3",
      "version": "3.9.19"
    }
  },
  "nbformat": 4,
  "nbformat_minor": 5
}
